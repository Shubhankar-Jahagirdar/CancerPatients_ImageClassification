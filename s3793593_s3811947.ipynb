{
 "cells": [
  {
   "cell_type": "markdown",
   "metadata": {
    "id": "Cs2X3shETqeM"
   },
   "source": [
    "# **Classifying Images of Colon Cancer**\n",
    "\n",
    "\n",
    "In this assignment our objective is to develop a machine learning system that can classify histopathelogy images of colon cells. The dataset provided is “CRCHistoPhenotypes” dataset which consists of 27x27x3 RGB histopathalogy images of colon cells from 98 different patients.\n",
    "\n",
    "We have used the provided information to perfrom 2 main tasks: \n",
    "\n",
    "* Classify images according to whether a given cell image represents a cancerous cells or not (isCancerous).\n",
    "\n",
    "* To classify images according to cell-type, like fibroblast, inflammatory, epithelial or others.\n",
    "\n",
    "* Based on this classification information obtained from the first task, we aim to imlpement the learnt knowledge of the supervised algorithm to improve the perfromance of the cell type classificaiton task. \n",
    "\n",
    "The data that has been provided consisits of histopathalogy images for 98 patients and the correct labels of `isCancerous` information of all image instances. However, the correct labels for `cellType` classification has been published only for 39 patients. \n",
    "\n",
    "In this project, we have used the supervised learning algorithm, Convolutional Nueral Networks to learn and extract features and perform the tasks with highest perfromance. The flow of the project follows an incremented approach with references and appendics as the inspiration to include the techniques in the performed tasks. \n",
    "\n",
    "This is Jupyter Notebook file contains both narratives as well as the related Python 3.0 codes.\n",
    "\n",
    "The report is organized as follow: \n",
    "- [Section 2 (Pre-requisite information)](#2) Provides details of the prereqisite information of the implemented libraries and the platforms to run the code. \n",
    "- [Section 3 (Overview of Data)](#3) Details of the dataset, thier features and generalized information. \n",
    "- [Section 4 (Data Preparation)](#4) Irregular cardinality checks and preparation steps to fit the data in classification algorithms. \n",
    "- [Section 5 (Data Exploration)](#5) Relationship between the flow of data and thier caracteristics, general insights of the data. \n",
    "- [Section 6 (Binary Classificaiton for `isCancerous`)](#6) Supervised Learning algorithm to classify `isCancerous` type cells. \n",
    "  - [Section 6.1 (Data Splitting)](#6.1) Custom Splitting Function to divide the dataset into Train, Validation and Testing.\n",
    "  - [Section 6.2 (Data Augmentation)](#6.2)Image Generator to Augment data in-order to suite the algorithm requirements.\n",
    "  - [Section 6.3 (Base Model Implementation)](#6.3)Implementation of BaseLine model.\n",
    "  - [Section 6.4 (Incremental Changes and Hyperparameter Tuning)](#6.4)Changing Hyperparameters to build incremental model. \n",
    "  - [Section 6.5 (Performance Evaluation)](#6.5) Evaluating performance of the algorithm using metrics. \n",
    "  - [Section 6.6 (Predictions)](#6.6) Predict class information on unseen data. \n",
    "- [(Section 7 (Multiclass Classification for `cellType`)](#7) Supervised Learning algorithm to classify `cellType` cells.\n",
    "  - [Section 7.1 (Data Splitting)](#7.1) Custom Splitting Function to divide the dataset into Train, Validation and Testing.\n",
    "  - [Section 7.2 (Data Augmentation)](#7.2)Image Generator to Augment data in-order to suite the algorithm requirements.\n",
    "  - [Section 7.3 (Base Model Implementation)](#7.3)Implementation of BaseLine model.\n",
    "  - [Section 7.4 (Incremental Changes and Hyperparameter Tuning)](#7.4)Changing Hyperparameters to build incremental model. \n",
    "  - [Section 7.5 (Performance Evaluation)](#7.5) Evaluating performance of the algorithm using metrics. \n",
    "  - [Section 7.6 (Predictions)](#7.6) Predict class information on unseen data.  \n",
    "- [Section 8 (Transfer Learning on Unlabelled Data)](#8) Exploring Transfer Learning to use the weights from `isCancerous` model on the ExtraData. \n",
    "  - [Section 8.1 (Freezing CNN Layers)](#8.1) Function to freeze the CNN Layers. \n",
    "  - [Section 8.2 (Adding new MLP)](#8.2) Addition of MLP layers to have Trainable and Non-Trainable parameters. \n",
    "  - [Section 8.3 (Training Model on `cellType`)](#8.3) Training model on the cellType with less Trainable parameters. \n",
    "  - [Section 8.4 (Performance Evaluation and comparisn)](#8.4) Evaluating performance on validation sets and comparison with existing models.  \n",
    "  - [Section 8.5 (Prediciton on unseen data)](#8.5) Predicting class labels on unseen data. \n",
    "- [Section 9 (Summary and Conclusion)](#10) Provides a result of our experiment and a brief summary of our work in this report.\n",
    "\n",
    "\n"
   ]
  },
  {
   "cell_type": "markdown",
   "metadata": {
    "id": "IYPGTDTd5uO7"
   },
   "source": [
    "# **Pre-requisite Information.** <a class=\"anchor\" id=\"2\"></a>"
   ]
  },
  {
   "cell_type": "markdown",
   "metadata": {
    "id": "RyxObrgp8a_U"
   },
   "source": [
    "The very first step includes mounting the drive, this is done to read our zip file which was uploaded to our drive. We then load the all the necessary packages which will be used in our code later on. \n",
    "\n",
    "Here we also extract all the files present in our Image_classification_data.zip with the help of zip_ref.extractall().\n",
    "In the below chunks we read the  maindata.csv and extradata.csv from our cloud. We then concatenate this and save it into one dataframe named total_data which will be further used for classificaiton tasks. "
   ]
  },
  {
   "cell_type": "code",
   "execution_count": 1,
   "metadata": {
    "colab": {
     "base_uri": "https://localhost:8080/"
    },
    "id": "Q3toMq1a004W",
    "outputId": "01a63f2d-357d-45ec-f18c-c132e7efc157"
   },
   "outputs": [
    {
     "name": "stdout",
     "output_type": "stream",
     "text": [
      "Collecting tensorflow-addons\n",
      "\u001b[?25l  Downloading https://files.pythonhosted.org/packages/66/4b/e893d194e626c24b3df2253066aa418f46a432fdb68250cde14bf9bb0700/tensorflow_addons-0.13.0-cp37-cp37m-manylinux2010_x86_64.whl (679kB)\n",
      "\r",
      "\u001b[K     |▌                               | 10kB 19.2MB/s eta 0:00:01\r",
      "\u001b[K     |█                               | 20kB 26.2MB/s eta 0:00:01\r",
      "\u001b[K     |█▌                              | 30kB 27.1MB/s eta 0:00:01\r",
      "\u001b[K     |██                              | 40kB 19.1MB/s eta 0:00:01\r",
      "\u001b[K     |██▍                             | 51kB 9.2MB/s eta 0:00:01\r",
      "\u001b[K     |███                             | 61kB 9.0MB/s eta 0:00:01\r",
      "\u001b[K     |███▍                            | 71kB 9.5MB/s eta 0:00:01\r",
      "\u001b[K     |███▉                            | 81kB 10.5MB/s eta 0:00:01\r",
      "\u001b[K     |████▍                           | 92kB 10.8MB/s eta 0:00:01\r",
      "\u001b[K     |████▉                           | 102kB 8.7MB/s eta 0:00:01\r",
      "\u001b[K     |█████▎                          | 112kB 8.7MB/s eta 0:00:01\r",
      "\u001b[K     |█████▉                          | 122kB 8.7MB/s eta 0:00:01\r",
      "\u001b[K     |██████▎                         | 133kB 8.7MB/s eta 0:00:01\r",
      "\u001b[K     |██████▊                         | 143kB 8.7MB/s eta 0:00:01\r",
      "\u001b[K     |███████▎                        | 153kB 8.7MB/s eta 0:00:01\r",
      "\u001b[K     |███████▊                        | 163kB 8.7MB/s eta 0:00:01\r",
      "\u001b[K     |████████▏                       | 174kB 8.7MB/s eta 0:00:01\r",
      "\u001b[K     |████████▊                       | 184kB 8.7MB/s eta 0:00:01\r",
      "\u001b[K     |█████████▏                      | 194kB 8.7MB/s eta 0:00:01\r",
      "\u001b[K     |█████████▋                      | 204kB 8.7MB/s eta 0:00:01\r",
      "\u001b[K     |██████████▏                     | 215kB 8.7MB/s eta 0:00:01\r",
      "\u001b[K     |██████████▋                     | 225kB 8.7MB/s eta 0:00:01\r",
      "\u001b[K     |███████████                     | 235kB 8.7MB/s eta 0:00:01\r",
      "\u001b[K     |███████████▋                    | 245kB 8.7MB/s eta 0:00:01\r",
      "\u001b[K     |████████████                    | 256kB 8.7MB/s eta 0:00:01\r",
      "\u001b[K     |████████████▌                   | 266kB 8.7MB/s eta 0:00:01\r",
      "\u001b[K     |█████████████                   | 276kB 8.7MB/s eta 0:00:01\r",
      "\u001b[K     |█████████████▌                  | 286kB 8.7MB/s eta 0:00:01\r",
      "\u001b[K     |██████████████                  | 296kB 8.7MB/s eta 0:00:01\r",
      "\u001b[K     |██████████████▌                 | 307kB 8.7MB/s eta 0:00:01\r",
      "\u001b[K     |███████████████                 | 317kB 8.7MB/s eta 0:00:01\r",
      "\u001b[K     |███████████████▍                | 327kB 8.7MB/s eta 0:00:01\r",
      "\u001b[K     |████████████████                | 337kB 8.7MB/s eta 0:00:01\r",
      "\u001b[K     |████████████████▍               | 348kB 8.7MB/s eta 0:00:01\r",
      "\u001b[K     |████████████████▉               | 358kB 8.7MB/s eta 0:00:01\r",
      "\u001b[K     |█████████████████▍              | 368kB 8.7MB/s eta 0:00:01\r",
      "\u001b[K     |█████████████████▉              | 378kB 8.7MB/s eta 0:00:01\r",
      "\u001b[K     |██████████████████▎             | 389kB 8.7MB/s eta 0:00:01\r",
      "\u001b[K     |██████████████████▉             | 399kB 8.7MB/s eta 0:00:01\r",
      "\u001b[K     |███████████████████▎            | 409kB 8.7MB/s eta 0:00:01\r",
      "\u001b[K     |███████████████████▊            | 419kB 8.7MB/s eta 0:00:01\r",
      "\u001b[K     |████████████████████▎           | 430kB 8.7MB/s eta 0:00:01\r",
      "\u001b[K     |████████████████████▊           | 440kB 8.7MB/s eta 0:00:01\r",
      "\u001b[K     |█████████████████████▏          | 450kB 8.7MB/s eta 0:00:01\r",
      "\u001b[K     |█████████████████████▊          | 460kB 8.7MB/s eta 0:00:01\r",
      "\u001b[K     |██████████████████████▏         | 471kB 8.7MB/s eta 0:00:01\r",
      "\u001b[K     |██████████████████████▋         | 481kB 8.7MB/s eta 0:00:01\r",
      "\u001b[K     |███████████████████████▏        | 491kB 8.7MB/s eta 0:00:01\r",
      "\u001b[K     |███████████████████████▋        | 501kB 8.7MB/s eta 0:00:01\r",
      "\u001b[K     |████████████████████████        | 512kB 8.7MB/s eta 0:00:01\r",
      "\u001b[K     |████████████████████████▋       | 522kB 8.7MB/s eta 0:00:01\r",
      "\u001b[K     |█████████████████████████       | 532kB 8.7MB/s eta 0:00:01\r",
      "\u001b[K     |█████████████████████████▌      | 542kB 8.7MB/s eta 0:00:01\r",
      "\u001b[K     |██████████████████████████      | 552kB 8.7MB/s eta 0:00:01\r",
      "\u001b[K     |██████████████████████████▌     | 563kB 8.7MB/s eta 0:00:01\r",
      "\u001b[K     |███████████████████████████     | 573kB 8.7MB/s eta 0:00:01\r",
      "\u001b[K     |███████████████████████████▌    | 583kB 8.7MB/s eta 0:00:01\r",
      "\u001b[K     |████████████████████████████    | 593kB 8.7MB/s eta 0:00:01\r",
      "\u001b[K     |████████████████████████████▍   | 604kB 8.7MB/s eta 0:00:01\r",
      "\u001b[K     |█████████████████████████████   | 614kB 8.7MB/s eta 0:00:01\r",
      "\u001b[K     |█████████████████████████████▍  | 624kB 8.7MB/s eta 0:00:01\r",
      "\u001b[K     |█████████████████████████████▉  | 634kB 8.7MB/s eta 0:00:01\r",
      "\u001b[K     |██████████████████████████████▍ | 645kB 8.7MB/s eta 0:00:01\r",
      "\u001b[K     |██████████████████████████████▉ | 655kB 8.7MB/s eta 0:00:01\r",
      "\u001b[K     |███████████████████████████████▎| 665kB 8.7MB/s eta 0:00:01\r",
      "\u001b[K     |███████████████████████████████▉| 675kB 8.7MB/s eta 0:00:01\r",
      "\u001b[K     |████████████████████████████████| 686kB 8.7MB/s \n",
      "\u001b[?25hRequirement already satisfied: typeguard>=2.7 in /usr/local/lib/python3.7/dist-packages (from tensorflow-addons) (2.7.1)\n",
      "Installing collected packages: tensorflow-addons\n",
      "Successfully installed tensorflow-addons-0.13.0\n"
     ]
    }
   ],
   "source": [
    "pip install tensorflow-addons"
   ]
  },
  {
   "cell_type": "code",
   "execution_count": 2,
   "metadata": {
    "id": "9Vob6KAT0x4Y"
   },
   "outputs": [],
   "source": [
    "from tensorflow.keras import regularizers, optimizers\n",
    "import tensorflow_addons as tfa\n",
    "import matplotlib.pyplot as plt\n",
    "import tensorflow as tf\n",
    "from PIL import Image\n",
    "import pandas as pd\n",
    "import numpy as np\n",
    "import zipfile\n",
    "import warnings\n",
    "import cv2"
   ]
  },
  {
   "cell_type": "code",
   "execution_count": 4,
   "metadata": {
    "colab": {
     "base_uri": "https://localhost:8080/"
    },
    "id": "QzKQGk7r-wkL",
    "outputId": "2ed79104-63dc-4459-afed-d2a6e970ad85"
   },
   "outputs": [
    {
     "name": "stdout",
     "output_type": "stream",
     "text": [
      "Mounted at /content/drive\n"
     ]
    }
   ],
   "source": [
    "import warnings\n",
    "warnings.filterwarnings(\"ignore\")\n",
    "import tensorflow as tf\n",
    "import pandas as pd\n",
    "import numpy as np\n",
    "from google.colab import drive\n",
    "drive.mount('/content/drive',force_remount=True)"
   ]
  },
  {
   "cell_type": "code",
   "execution_count": 5,
   "metadata": {
    "id": "VY4I41Nfz4Ie"
   },
   "outputs": [],
   "source": [
    "with zipfile.ZipFile('/content/drive/MyDrive/ML/Image_classification_data.zip', 'r') as zip_ref:\n",
    " zip_ref.extractall('./')"
   ]
  },
  {
   "cell_type": "code",
   "execution_count": 6,
   "metadata": {
    "id": "bR20YzZxAun2"
   },
   "outputs": [],
   "source": [
    "data = pd.read_csv(\"./data_labels_mainData.csv\")\n",
    "Extradata = pd.read_csv(\"./data_labels_extraData.csv\")\n",
    "frames = [data,Extradata]\n",
    "total_data = pd.concat(frames,ignore_index = True)\n",
    "total_data.reset_index(drop=True,inplace=True)"
   ]
  },
  {
   "cell_type": "markdown",
   "metadata": {
    "id": "nin5TECNBfvS"
   },
   "source": [
    "1. From the output of the below cells we can see that total_data has 20280 images and 6 columns. \n",
    "2. We have 3 integer, 2 object and 1 float type. Our label is of float64.\n",
    "3. The number of Cancerous image instances are 7069 and non cancerous are 13211."
   ]
  },
  {
   "cell_type": "code",
   "execution_count": 7,
   "metadata": {
    "colab": {
     "base_uri": "https://localhost:8080/"
    },
    "id": "b49S4kRjBPmH",
    "outputId": "436420f2-bc2e-4cb0-ce21-8a863f3f8354"
   },
   "outputs": [
    {
     "name": "stdout",
     "output_type": "stream",
     "text": [
      "InstanceID        int64\n",
      "patientID         int64\n",
      "ImageName        object\n",
      "cellTypeName     object\n",
      "cellType        float64\n",
      "isCancerous       int64\n",
      "dtype: object\n",
      "13211\n",
      "7069\n"
     ]
    }
   ],
   "source": [
    "print(total_data.dtypes)\n",
    "print(total_data['isCancerous'].value_counts()[0] )\n",
    "print(total_data['isCancerous'].value_counts()[1] )"
   ]
  },
  {
   "cell_type": "markdown",
   "metadata": {
    "id": "2c-WaebS6HOL"
   },
   "source": [
    "# **Overview of Data.** <a class=\"anchor\" id=\"3\"></a>"
   ]
  },
  {
   "cell_type": "markdown",
   "metadata": {
    "id": "JuPaSj7YCOc8"
   },
   "source": [
    "As discussed in the introduction, the image instances of each patient are present in the patch images folder that we have cloned on Drive. These images contain information about the Cell Types as well as the Cancer Type tissues. The images are histopathalogy images, Histopathology is the diagnosis and study of diseases of the tissues, and involves examining tissues and/or cells under a microscope.\n",
    "This collected information can yeild features to feed into a supervised learning model  which can be further tuned to extract the class labels. In the below chunk we can observe a sample of the collected information. \n",
    "It can be observed that the dataset contains information about the instance ID, patientID, CellTypeName, CellType and if the patient is Cancerous or not. \n",
    "In this chunk it can be seen that there are multiple instances of each patientID and their associated images. "
   ]
  },
  {
   "cell_type": "code",
   "execution_count": 8,
   "metadata": {
    "colab": {
     "base_uri": "https://localhost:8080/",
     "height": 204
    },
    "id": "xz8zBjLyNaqz",
    "outputId": "a5896039-38dc-4332-f3b3-e58eeb0eea6f"
   },
   "outputs": [
    {
     "data": {
      "text/html": [
       "<div>\n",
       "<style scoped>\n",
       "    .dataframe tbody tr th:only-of-type {\n",
       "        vertical-align: middle;\n",
       "    }\n",
       "\n",
       "    .dataframe tbody tr th {\n",
       "        vertical-align: top;\n",
       "    }\n",
       "\n",
       "    .dataframe thead th {\n",
       "        text-align: right;\n",
       "    }\n",
       "</style>\n",
       "<table border=\"1\" class=\"dataframe\">\n",
       "  <thead>\n",
       "    <tr style=\"text-align: right;\">\n",
       "      <th></th>\n",
       "      <th>InstanceID</th>\n",
       "      <th>patientID</th>\n",
       "      <th>ImageName</th>\n",
       "      <th>cellTypeName</th>\n",
       "      <th>cellType</th>\n",
       "      <th>isCancerous</th>\n",
       "    </tr>\n",
       "  </thead>\n",
       "  <tbody>\n",
       "    <tr>\n",
       "      <th>0</th>\n",
       "      <td>22405</td>\n",
       "      <td>1</td>\n",
       "      <td>22405.png</td>\n",
       "      <td>fibroblast</td>\n",
       "      <td>0</td>\n",
       "      <td>0</td>\n",
       "    </tr>\n",
       "    <tr>\n",
       "      <th>1</th>\n",
       "      <td>22406</td>\n",
       "      <td>1</td>\n",
       "      <td>22406.png</td>\n",
       "      <td>fibroblast</td>\n",
       "      <td>0</td>\n",
       "      <td>0</td>\n",
       "    </tr>\n",
       "    <tr>\n",
       "      <th>2</th>\n",
       "      <td>22407</td>\n",
       "      <td>1</td>\n",
       "      <td>22407.png</td>\n",
       "      <td>fibroblast</td>\n",
       "      <td>0</td>\n",
       "      <td>0</td>\n",
       "    </tr>\n",
       "    <tr>\n",
       "      <th>3</th>\n",
       "      <td>22408</td>\n",
       "      <td>1</td>\n",
       "      <td>22408.png</td>\n",
       "      <td>fibroblast</td>\n",
       "      <td>0</td>\n",
       "      <td>0</td>\n",
       "    </tr>\n",
       "    <tr>\n",
       "      <th>4</th>\n",
       "      <td>22409</td>\n",
       "      <td>1</td>\n",
       "      <td>22409.png</td>\n",
       "      <td>fibroblast</td>\n",
       "      <td>0</td>\n",
       "      <td>0</td>\n",
       "    </tr>\n",
       "  </tbody>\n",
       "</table>\n",
       "</div>"
      ],
      "text/plain": [
       "   InstanceID  patientID  ImageName cellTypeName  cellType  isCancerous\n",
       "0       22405          1  22405.png   fibroblast         0            0\n",
       "1       22406          1  22406.png   fibroblast         0            0\n",
       "2       22407          1  22407.png   fibroblast         0            0\n",
       "3       22408          1  22408.png   fibroblast         0            0\n",
       "4       22409          1  22409.png   fibroblast         0            0"
      ]
     },
     "execution_count": 8,
     "metadata": {
      "tags": []
     },
     "output_type": "execute_result"
    }
   ],
   "source": [
    "data.head(5)"
   ]
  },
  {
   "cell_type": "markdown",
   "metadata": {
    "id": "sCX4njbr6M3y"
   },
   "source": [
    "# **Data Preparation** <a class=\"anchor\" id=\"4\"></a>"
   ]
  },
  {
   "cell_type": "markdown",
   "metadata": {
    "id": "whsNHkDuON6v"
   },
   "source": [
    "In this section we will explore the cardinalities of data and check if there are any irregular cardinalites that can be removed before exploring any insights from the provided information. This is an important step as this may reduce the bias in the ML algorithm and also give us some insightful information. "
   ]
  },
  {
   "cell_type": "code",
   "execution_count": 9,
   "metadata": {
    "colab": {
     "base_uri": "https://localhost:8080/"
    },
    "id": "SdQKDcuOaJT2",
    "outputId": "30ef0838-51ea-4d15-9ca5-2ae166577d38"
   },
   "outputs": [
    {
     "name": "stdout",
     "output_type": "stream",
     "text": [
      "Null Values in Total Data\n",
      " InstanceID          0\n",
      "patientID           0\n",
      "ImageName           0\n",
      "cellTypeName    10384\n",
      "cellType        10384\n",
      "isCancerous         0\n",
      "dtype: int64\n",
      "------------------------------------------------------\n",
      "Total unique patient ID's\n",
      " 98\n",
      "------------------------------------------------------\n",
      "All unique patient ID's\n",
      " [ 1  2  3  4  5  6  7  8  9 10 11 12 13 14 15 16 17 18 19 20 21 22 23 24\n",
      " 25 26 27 28 29 30 31 32 33 34 35 36 37 38 39 40 41 42 43 44 45 46 47 48\n",
      " 49 50 51 52 53 54 55 56 57 58 59 60 61 62 63 64 65 66 67 68 69 70 71 72\n",
      " 73 74 75 77 78 79 80 81 82 83 84 85 86 87 88 89 90 91 92 93 94 95 96 97\n",
      " 98 99]\n",
      "------------------------------------------------------\n",
      "\n"
     ]
    }
   ],
   "source": [
    "# Checking Irregular Cardinalities\n",
    "print(\"Null Values in Total Data\\n\",total_data.isnull().sum())\n",
    "print(\"------------------------------------------------------\")\n",
    "print(\"Total unique patient ID's\\n\",total_data['patientID'].nunique())\n",
    "print(\"------------------------------------------------------\")\n",
    "print(\"All unique patient ID's\\n\",total_data['patientID'].unique())\n",
    "print(\"------------------------------------------------------\")\n",
    "print()"
   ]
  },
  {
   "cell_type": "markdown",
   "metadata": {
    "id": "wDobA3lvybsg"
   },
   "source": [
    "As per the information obtained above following observations can be made:\n",
    "- It can be seen that the patient ID 76 does not exist in provided data corpus. Hence, we will consider this fact while splitting the data. \n",
    "- It can be seen that there exists null values in for cell type information in the extradata, hence, we cannot consider this information while modelling for multiclass. "
   ]
  },
  {
   "cell_type": "markdown",
   "metadata": {
    "id": "9cA3Lu_w6Ufi"
   },
   "source": [
    "# **Data Exploration** <a class=\"anchor\" id=\"5\"></a>"
   ]
  },
  {
   "cell_type": "markdown",
   "metadata": {
    "id": "TIwdVwm8zeT_"
   },
   "source": [
    "In this section we will perform some data explorations in order to understand the flow of the information and the images. \n",
    "To do that we will print some random images in order to observe their pixel size. \n",
    "Since we will be using Grayscale model for incremental model in the later part of this project, we will also view the images in the grayscale mode. \n",
    "\n",
    "The following observations can be made: \n",
    "- The images are of size 27x27x3 in the RGB mode. \n",
    "- Once converted into grayscale the images will be of size 27x27x1. \n",
    "- There is huge difference between the class values of cancerous and non cancerous patients with cancerous patients accounting about 13211 and non cancerous around 7069. \n",
    "\n"
   ]
  },
  {
   "cell_type": "code",
   "execution_count": 10,
   "metadata": {
    "id": "pSswhEHF1_oW"
   },
   "outputs": [],
   "source": [
    "# Run this chunk only once to append your image folder path.\n",
    "total_data['ImageName'] = './patch_images/'+total_data['ImageName'].astype(str)"
   ]
  },
  {
   "cell_type": "code",
   "execution_count": 11,
   "metadata": {
    "colab": {
     "base_uri": "https://localhost:8080/",
     "height": 228
    },
    "id": "Gkfz-tHO0pL2",
    "outputId": "322c8478-9426-4405-8007-5123b91ec580"
   },
   "outputs": [
    {
     "data": {
      "image/png": "[encoded data removed]",
      "text/plain": [
       "<Figure size 1944x1944 with 6 Axes>"
      ]
     },
     "metadata": {
      "needs_background": "light",
      "tags": []
     },
     "output_type": "display_data"
    }
   ],
   "source": [
    "r_inx = np.random.choice(100, 6)\n",
    "rand_data = total_data.loc[r_inx,'ImageName']\n",
    "\n",
    "plt.figure(figsize=(27,27))\n",
    "for i, image_path in enumerate(rand_data):\n",
    "  im1 = Image.open(image_path)\n",
    "  im = np.asarray(Image.open(image_path))\n",
    "  pixel_values = list(im1.getdata())\n",
    "  plt.subplot(1,6,i+1)\n",
    "  plt.imshow(im)\n",
    "plt.show()"
   ]
  },
  {
   "cell_type": "code",
   "execution_count": 12,
   "metadata": {
    "colab": {
     "base_uri": "https://localhost:8080/",
     "height": 228
    },
    "id": "PGL7DHD42V7I",
    "outputId": "895c3a41-e86b-4be6-ec55-7f66b28ab05e"
   },
   "outputs": [
    {
     "data": {
      "image/png": "[encoded data removed]",
      "text/plain": [
       "<Figure size 1944x1944 with 6 Axes>"
      ]
     },
     "metadata": {
      "needs_background": "light",
      "tags": []
     },
     "output_type": "display_data"
    }
   ],
   "source": [
    "plt.figure(figsize=(27,27))\n",
    "for i, image_path in enumerate(rand_data):\n",
    "  im1 = Image.open(image_path).convert(\"L\")\n",
    "  im = np.asarray(Image.open(image_path).convert(\"L\"))\n",
    "  pixel_values = list(im1.getdata())\n",
    "  plt.subplot(1,6,i+1)\n",
    "  plt.imshow(im, cmap='gray')\n",
    "plt.show()"
   ]
  },
  {
   "cell_type": "code",
   "execution_count": 13,
   "metadata": {
    "colab": {
     "base_uri": "https://localhost:8080/",
     "height": 326
    },
    "id": "f26LDgcd24rl",
    "outputId": "dc470517-92b3-4f8d-d9ce-572cfef60580"
   },
   "outputs": [
    {
     "name": "stdout",
     "output_type": "stream",
     "text": [
      "Total Non Cancerous instances:  13211\n",
      "Total Cancerous instances:  7069\n"
     ]
    },
    {
     "data": {
      "image/png": "[encoded data removed]",
      "text/plain": [
       "<Figure size 432x288 with 1 Axes>"
      ]
     },
     "metadata": {
      "needs_background": "light",
      "tags": []
     },
     "output_type": "display_data"
    }
   ],
   "source": [
    "x = pd.DataFrame(total_data['isCancerous'].value_counts())\n",
    "y = x.plot.bar(title = \"Is Cancerous data distribution\", xlabel = \"IsCancerous\", ylabel = \"Instances\")\n",
    "\n",
    "for p in y.patches:\n",
    "    y.annotate(str(p.get_height()), (p.get_x() * 1.005, p.get_height() * 1.005))\n",
    "\n",
    "\n",
    "print(\"Total Non Cancerous instances: \",total_data['isCancerous'].value_counts()[0] )\n",
    "print(\"Total Cancerous instances: \",total_data['isCancerous'].value_counts()[1] )\n"
   ]
  },
  {
   "cell_type": "markdown",
   "metadata": {
    "id": "jTAJhqLd4nf4"
   },
   "source": [
    "It can also be observed that the cell type information has class imbalance. "
   ]
  },
  {
   "cell_type": "code",
   "execution_count": 14,
   "metadata": {
    "colab": {
     "base_uri": "https://localhost:8080/",
     "height": 454
    },
    "id": "Y6I3EdY34nOx",
    "outputId": "b5fb981e-d654-4057-8924-af78cdd86ad7"
   },
   "outputs": [
    {
     "name": "stdout",
     "output_type": "stream",
     "text": [
      "Total cell type name with count: \n",
      " epithelial      4079\n",
      "inflammatory    2543\n",
      "fibroblast      1888\n",
      "others          1386\n",
      "Name: cellTypeName, dtype: int64\n"
     ]
    },
    {
     "data": {
      "image/png": "[encoded data removed]",
      "text/plain": [
       "<Figure size 432x288 with 1 Axes>"
      ]
     },
     "metadata": {
      "needs_background": "light",
      "tags": []
     },
     "output_type": "display_data"
    }
   ],
   "source": [
    "x = pd.DataFrame(data['cellTypeName'].value_counts())\n",
    "y = x.plot.bar(title = \"Cell type name with their count\", xlabel = \"CellType\", ylabel = \"Instances\")\n",
    "\n",
    "for p in y.patches:\n",
    "    y.annotate(str(p.get_height()), (p.get_x() * 1.005, p.get_height() * 1.005))\n",
    "\n",
    "\n",
    "print(\"Total cell type name with count: \\n\", data['cellTypeName'].value_counts())"
   ]
  },
  {
   "cell_type": "markdown",
   "metadata": {
    "id": "XJlzzIGl3iD3"
   },
   "source": [
    "Each patientID is associated with their own total image instances, hence the data is not evenly distributed. We can see that some patients have instances around 700 images where as some have images as close to 0. "
   ]
  },
  {
   "cell_type": "code",
   "execution_count": 15,
   "metadata": {
    "colab": {
     "base_uri": "https://localhost:8080/",
     "height": 654
    },
    "id": "4Lb78wzk3eXa",
    "outputId": "dab423e7-f543-49b9-b1d0-6bb71d515c80"
   },
   "outputs": [
    {
     "data": {
      "image/png": "[encoded data removed]",
      "text/plain": [
       "<Figure size 432x288 with 1 Axes>"
      ]
     },
     "metadata": {
      "needs_background": "light",
      "tags": []
     },
     "output_type": "display_data"
    }
   ],
   "source": [
    "y = total_data['patientID'].value_counts().sort_index()\n",
    "fig = plt.figure()\n",
    "ax = fig.add_axes([0,0,2,2], title = \"Patient ID counts\", xlabel = \"Patient ID\", ylabel = \"Instances\")\n",
    "ax.bar(y.index,y.values)\n",
    "plt.show()"
   ]
  },
  {
   "cell_type": "markdown",
   "metadata": {
    "id": "2cddL6LT42K5"
   },
   "source": [
    "Since, we will be modelling using the grayscale model in the later part of this project, hence, we check the RGB overlap histograms in order to check the inference weights. From the below graphs an overlapping histograms can be observed for RGB images and the structure of the histogram overlap for grayscale and RGB is almost the same with similar range values."
   ]
  },
  {
   "cell_type": "code",
   "execution_count": 16,
   "metadata": {
    "colab": {
     "base_uri": "https://localhost:8080/",
     "height": 312
    },
    "id": "S5tpODKp5LDH",
    "outputId": "4c9fecb6-11a4-4091-c8b4-e2dd6a1dcd5e"
   },
   "outputs": [
    {
     "data": {
      "text/plain": [
       "(0.0, 256.0)"
      ]
     },
     "execution_count": 16,
     "metadata": {
      "tags": []
     },
     "output_type": "execute_result"
    },
    {
     "data": {
      "image/png": "[encoded data removed]",
      "text/plain": [
       "<Figure size 432x288 with 1 Axes>"
      ]
     },
     "metadata": {
      "needs_background": "light",
      "tags": []
     },
     "output_type": "display_data"
    }
   ],
   "source": [
    "for i, image_path in enumerate(rand_data):\n",
    "  im2 = np.asarray(Image.open(image_path))\n",
    "\n",
    "gray = cv2.cvtColor(im2, cv2.COLOR_BGR2GRAY)\n",
    "\n",
    "hist = cv2.calcHist([gray], [0], None, [256], [0, 256])\n",
    "plt.figure()\n",
    "plt.title(\"Grayscale Histogram for cell type name images\")\n",
    "plt.xlabel(\"Bins\")\n",
    "plt.ylabel(\"# of Pixels\")\n",
    "plt.plot(hist)\n",
    "plt.xlim([0, 256])"
   ]
  },
  {
   "cell_type": "code",
   "execution_count": 17,
   "metadata": {
    "colab": {
     "base_uri": "https://localhost:8080/",
     "height": 295
    },
    "id": "_NR8CtBF4lpi",
    "outputId": "f8635307-d9cc-4e2f-c512-e09754a55211"
   },
   "outputs": [
    {
     "data": {
      "image/png": "[encoded data removed]",
      "text/plain": [
       "<Figure size 432x288 with 1 Axes>"
      ]
     },
     "metadata": {
      "needs_background": "light",
      "tags": []
     },
     "output_type": "display_data"
    }
   ],
   "source": [
    "chans = cv2.split(im2)\n",
    "colors = (\"b\", \"g\", \"r\")\n",
    "plt.figure()\n",
    "plt.title(\"Color Histogram for cell type name images\")\n",
    "plt.xlabel(\"Bins\")\n",
    "plt.ylabel(\"# of Pixels\")\n",
    "features = []\n",
    "# loop over the image channels\n",
    "for (chan, color) in zip(chans, colors):\n",
    "\t# create a histogram for the current channel and\n",
    "\t# concatenate the resulting histograms for each\n",
    "\t# channel\n",
    "\thist = cv2.calcHist([chan], [0], None, [256], [0, 256])\n",
    "\tfeatures.extend(hist)\n",
    "\t# plot the histogram\n",
    "\tplt.plot(hist, color = color)\n",
    "\tplt.xlim([0, 256])"
   ]
  },
  {
   "cell_type": "markdown",
   "metadata": {
    "id": "mzvslpAt6qBC"
   },
   "source": [
    "# **Binary Classification for `isCancerous`** <a class=\"anchor\" id=\"6\"></a>"
   ]
  },
  {
   "cell_type": "markdown",
   "metadata": {
    "id": "WJylKtyG6h-Q"
   },
   "source": [
    "In this chuck we will implement base line and incremental model to classify cancerous and non cancerous cell types, we will compare and contrast the approaches used. "
   ]
  },
  {
   "cell_type": "markdown",
   "metadata": {
    "id": "FlzC_z496BRR"
   },
   "source": [
    "## **Data Splitting** <a class=\"anchor\" id=\"6.1\"></a>"
   ]
  },
  {
   "cell_type": "markdown",
   "metadata": {
    "id": "U5K9Oi726q9B"
   },
   "source": [
    "We split the data into training, testing and validation split. We use our training data to train our Convolutional Neural Network model, validation data to see how our model performs on this unseen data and perform the necessary hyper parameter tuning to make the model generalize well to unseen test data. The test data will be used at the end to test how well our model has generalised to this new unseen data.\n",
    "\n",
    "- We then check the 'is cancerous' and 'non cancerous' value counts for train, validation and test data. \n",
    "- We have made sure that the patientID 76 is not present in the dataset to avoid misleading information. \n",
    "- We have randomly divided the data to have 70% patients in train, 20% in Validation and 10% for Testing. \n",
    "- These divisions are based on patientID and not on total instances, hence, we make sure that the patients in training are not used in validation and testing, thus reducing data leakage.\n"
   ]
  },
  {
   "cell_type": "code",
   "execution_count": 18,
   "metadata": {
    "colab": {
     "base_uri": "https://localhost:8080/"
    },
    "id": "ffhdE67L7rfu",
    "outputId": "6d90a281-dcb7-4c8f-b881-6c7fc5cad32d"
   },
   "outputs": [
    {
     "data": {
      "text/plain": [
       "76"
      ]
     },
     "execution_count": 18,
     "metadata": {
      "tags": []
     },
     "output_type": "execute_result"
    }
   ],
   "source": [
    "listID = []\n",
    "\n",
    "for i in range(1,100):\n",
    "  listID.append(i)\n",
    "listID\n",
    "listID.pop(75)"
   ]
  },
  {
   "cell_type": "code",
   "execution_count": 19,
   "metadata": {
    "colab": {
     "base_uri": "https://localhost:8080/"
    },
    "id": "GlA3pw347qH3",
    "outputId": "7435fa9b-08a0-40a0-beef-cfd3f9ef3409"
   },
   "outputs": [
    {
     "name": "stdout",
     "output_type": "stream",
     "text": [
      "TrainData shape:  (14022, 6)\n",
      "ValData shape:  (4441, 6)\n",
      "TestData shape:  (1817, 6)\n"
     ]
    }
   ],
   "source": [
    "from sklearn.model_selection import train_test_split\n",
    "train,test =  train_test_split(listID, test_size=0.3, random_state=99)\n",
    "val,testing = train_test_split(test, test_size=0.33, random_state=99)\n",
    "TrainData = total_data[total_data['patientID'].isin(train)]\n",
    "ValData = total_data[total_data['patientID'].isin(val)]\n",
    "TestingData = total_data[total_data['patientID'].isin(testing)]\n",
    "print(\"TrainData shape: \",TrainData.shape)\n",
    "print(\"ValData shape: \",ValData.shape)\n",
    "print(\"TestData shape: \",TestingData.shape)\n",
    "ValData.reset_index(drop=True,inplace=True)\n",
    "TrainData.reset_index(drop=True,inplace=True)\n",
    "TestingData.reset_index(drop=True,inplace=True)\n",
    "TrainData['isCancerous'] = TrainData['isCancerous'].astype('str')\n",
    "ValData['isCancerous'] = ValData['isCancerous'].astype('str')"
   ]
  },
  {
   "cell_type": "markdown",
   "metadata": {
    "id": "F57IHO4Y8ApN"
   },
   "source": [
    "It can be observed that there are approximately 14 thousand instances in the Training Data, 4 thousand in validation and approx 2 thousand in testing. There are 68 patients in training set, 20 patients in Validation and 10 patients for testing. \n",
    "\n",
    "We have made sure that the algorithm learns evenly on each class. "
   ]
  },
  {
   "cell_type": "code",
   "execution_count": 20,
   "metadata": {
    "colab": {
     "base_uri": "https://localhost:8080/"
    },
    "id": "ghqfCBay8MZw",
    "outputId": "af20569e-8de7-4cb7-fd90-9e0737b18dd7"
   },
   "outputs": [
    {
     "name": "stdout",
     "output_type": "stream",
     "text": [
      "Patient ID counts for Train 68\n",
      "Value Counts for isCancerous in training\n",
      " 0    9004\n",
      "1    5018\n",
      "Name: isCancerous, dtype: int64\n",
      "----------------------------------------------------------------------------------------\n",
      "Patient ID counts for Validation 20\n",
      "Value Counts for isCancerous in Validating\n",
      " 0    2934\n",
      "1    1507\n",
      "Name: isCancerous, dtype: int64\n",
      "----------------------------------------------------------------------------------------\n",
      "Patient ID counts for Test 10\n",
      "Value Counts for isCancerous in Testing\n",
      " 0    1273\n",
      "1     544\n",
      "Name: isCancerous, dtype: int64\n",
      "----------------------------------------------------------------------------------------\n"
     ]
    }
   ],
   "source": [
    "print(\"Patient ID counts for Train\",TrainData['patientID'].nunique())\n",
    "print(\"Value Counts for isCancerous in training\\n\",TrainData['isCancerous'].value_counts())\n",
    "print(\"----------------------------------------------------------------------------------------\")\n",
    "print(\"Patient ID counts for Validation\",ValData['patientID'].nunique())\n",
    "\n",
    "print(\"Value Counts for isCancerous in Validating\\n\",ValData['isCancerous'].value_counts())\n",
    "print(\"----------------------------------------------------------------------------------------\")\n",
    "print(\"Patient ID counts for Test\",TestingData['patientID'].nunique())\n",
    "\n",
    "print(\"Value Counts for isCancerous in Testing\\n\",TestingData['isCancerous'].value_counts())\n",
    "print(\"----------------------------------------------------------------------------------------\")"
   ]
  },
  {
   "cell_type": "markdown",
   "metadata": {
    "id": "RVJz5_51-LUJ"
   },
   "source": [
    "## **Data Augmentation** <a class=\"anchor\" id=\"6.2\"></a>"
   ]
  },
  {
   "cell_type": "markdown",
   "metadata": {
    "id": "pXHy_kwy-TJU"
   },
   "source": [
    "**Setting up a plotting function**\n",
    "\n",
    "After we have identified the train/test/validation splits we are ready to do the experiments. We define the layers in our network. While develpoing deep neural networks, we can use the learning curves to identify what needs to be done next. This simple function is used to plot the learning curve of a Neural network training process."
   ]
  },
  {
   "cell_type": "code",
   "execution_count": 21,
   "metadata": {
    "id": "tQtI17d47_8-"
   },
   "outputs": [],
   "source": [
    "import matplotlib.pyplot as plt\n",
    "def plot_learning_curve(train_loss, val_loss, train_metric, val_metric, metric_name='F1-score'):\n",
    "    plt.figure(figsize=(10,5))\n",
    "    \n",
    "    plt.subplot(1,2,1)\n",
    "    plt.plot(train_loss, 'r--')\n",
    "    plt.plot(val_loss, 'b--')\n",
    "    plt.xlabel(\"epochs\")\n",
    "    plt.ylabel(\"Loss\")\n",
    "    plt.legend(['train', 'val'], loc='upper left')\n",
    "\n",
    "    plt.subplot(1,2,2)\n",
    "    plt.plot(train_metric, 'r--')\n",
    "    plt.plot(val_metric, 'b--')\n",
    "    plt.xlabel(\"epochs\")\n",
    "    plt.ylim([0.0, 1.0])\n",
    "    plt.ylabel(metric_name)\n",
    "    plt.legend(['train', 'val'], loc='upper left')\n",
    "\n",
    "    plt.show()"
   ]
  },
  {
   "cell_type": "markdown",
   "metadata": {
    "id": "wCQlsqXl-hWQ"
   },
   "source": [
    "**Reading Images with ImageDataGenerator with basic Augmentation.**\n",
    "\n",
    "We now read the data from keras image data generator. ImageDataGenerator helps to augment images with the help of different techniques like roattion, standardization, shifts, brightness change and more. One of the main advantages of this is it provides real time data augmentation. that is it generstes augmented iamges while your model is training.\n",
    "\n",
    "We rescale the data by dividing by 255 and then by choosing data_format as 'channels_last' we are converting image into format the format of [batch_size,image Height, image Width, No of channels].\n",
    "\n",
    "'flow_from_dataframe()' helps to read the images and labels from the dataframe. Since we our performing a categorical task we set the class_mode to categorical and set the batch_size to 32, this value can also be changed if required.\n",
    "\n",
    "In the following chunck we have augmented the images into grayscale format. "
   ]
  },
  {
   "cell_type": "code",
   "execution_count": 22,
   "metadata": {
    "colab": {
     "base_uri": "https://localhost:8080/"
    },
    "id": "lWKt2GfV-gwf",
    "outputId": "c72bf0f7-0ab6-466d-f229-035e8026bbb5"
   },
   "outputs": [
    {
     "name": "stdout",
     "output_type": "stream",
     "text": [
      "Found 14022 validated image filenames belonging to 2 classes.\n",
      "Found 4441 validated image filenames belonging to 2 classes.\n"
     ]
    }
   ],
   "source": [
    "from tensorflow.keras.preprocessing.image import ImageDataGenerator\n",
    "\n",
    "train_datagen = ImageDataGenerator(rescale=1./255, data_format='channels_last')\n",
    "val_datagen = ImageDataGenerator(rescale=1./255, data_format='channels_last')\n",
    "\n",
    "batch_size = 32\n",
    "\n",
    "train_generator = train_datagen.flow_from_dataframe(\n",
    "        dataframe=TrainData,\n",
    "        directory='./',\n",
    "        x_col=\"ImageName\",\n",
    "        y_col=\"isCancerous\",\n",
    "        color_mode=\"grayscale\",\n",
    "        target_size=(27, 27),\n",
    "        batch_size=batch_size,\n",
    "        class_mode='sparse')\n",
    "\n",
    "validation_generator = val_datagen.flow_from_dataframe(\n",
    "        dataframe=ValData,\n",
    "        directory='./',\n",
    "        x_col=\"ImageName\",\n",
    "        y_col=\"isCancerous\",\n",
    "        color_mode=\"grayscale\",\n",
    "        target_size=(27, 27),\n",
    "        batch_size=batch_size,\n",
    "        class_mode='sparse')"
   ]
  },
  {
   "cell_type": "markdown",
   "metadata": {
    "id": "gUspLD9GASuk"
   },
   "source": [
    "## **Base Model Implementation** <a class=\"anchor\" id=\"6.3\"></a>"
   ]
  },
  {
   "cell_type": "markdown",
   "metadata": {
    "id": "SjEoVmN_BNTc"
   },
   "source": [
    "First step in building any model is deciding any error metric and as we can see our target class `isCancerous` is not balanced we will go with `f1_score` as our metric and Sparse categorical cross entropy as our loss function. \n",
    "\n",
    "We are considering a VGG architecture in building our model but, with some changes in our layers and parameters. Our model takes inspiration from the VGG architecture but with some changes. \n",
    "\n",
    "Here we first start with 2 Conv2D layers first with basic hyper parameters. We use relu as our activation step function as this will output the input directly if it is positive, otherwise, it will output zero. Relu also eliminates the vanishing gradient problem. Padding is set to same and we have used he_normal as the kernel initializer. \n",
    "\n",
    "We are using a maxpooling layer then with a stride of 2*2 to avoid overfitting and achieving great performance."
   ]
  },
  {
   "cell_type": "code",
   "execution_count": 23,
   "metadata": {
    "id": "A2nhksy2Aa4q"
   },
   "outputs": [],
   "source": [
    "# This model is inspired by the VGG imagenet architecture, hence it has multiple CONV2d layers and some MaxPooling layers. \n",
    "\n",
    "Binary_BaselineModel= tf.keras.Sequential([\n",
    "    #VGG block 1\n",
    "    tf.keras.layers.Conv2D(64, (3, 3), activation='relu',padding='same',input_shape=(27, 27, 1)),\n",
    "    tf.keras.layers.Conv2D(128, (3, 3), activation='relu', padding='same'),\n",
    "    tf.keras.layers.MaxPooling2D((2, 2)),\n",
    "    \n",
    "    #VGG block 2\n",
    "    tf.keras.layers.Conv2D(256, (3, 3), activation='relu', padding='same'),\n",
    "    tf.keras.layers.Conv2D(128, (3, 3), activation='relu', padding='same'),\n",
    "    tf.keras.layers.MaxPooling2D((2, 2)),\n",
    "    \n",
    "    #Multilayer Pervceptions\n",
    "    tf.keras.layers.Flatten(),\n",
    "    tf.keras.layers.Dense(128, activation='relu'),\n",
    "    tf.keras.layers.Dense(64, activation='relu'),\n",
    "    tf.keras.layers.Dense(2),\n",
    "])\n"
   ]
  },
  {
   "cell_type": "code",
   "execution_count": 24,
   "metadata": {
    "id": "NqtA5MHFBp99"
   },
   "outputs": [],
   "source": [
    "opt = tf.keras.optimizers.Adam(lr=0.0001)\n",
    "Binary_BaselineModel.compile(optimizer=opt,\n",
    "              loss = tf.keras.losses.SparseCategoricalCrossentropy(from_logits=True),\n",
    "              metrics='sparse_categorical_accuracy')"
   ]
  },
  {
   "cell_type": "code",
   "execution_count": 25,
   "metadata": {
    "id": "DDELKUh81HPn"
   },
   "outputs": [],
   "source": [
    "from sklearn.utils import class_weight\n",
    "class_weights = class_weight.compute_class_weight('balanced',\n",
    "                                                 np.unique(train_generator.classes),\n",
    "                                                 train_generator.classes)"
   ]
  },
  {
   "cell_type": "code",
   "execution_count": 26,
   "metadata": {
    "id": "eevFHr7e1fEJ"
   },
   "outputs": [],
   "source": [
    "class_weight_dict = dict(enumerate(class_weights))"
   ]
  },
  {
   "cell_type": "code",
   "execution_count": 27,
   "metadata": {
    "colab": {
     "base_uri": "https://localhost:8080/"
    },
    "id": "bC9JP94vBwfT",
    "outputId": "cf3cea25-059b-4ac4-b0cf-b3817a77c71a"
   },
   "outputs": [
    {
     "name": "stdout",
     "output_type": "stream",
     "text": [
      "WARNING:tensorflow:From /usr/local/lib/python3.7/dist-packages/tensorflow/python/ops/array_ops.py:5049: calling gather (from tensorflow.python.ops.array_ops) with validate_indices is deprecated and will be removed in a future version.\n",
      "Instructions for updating:\n",
      "The `validate_indices` argument has no effect. Indices are always validated on CPU and never validated on GPU.\n",
      "Epoch 1/20\n",
      "439/439 [==============================] - 38s 15ms/step - loss: 0.5276 - sparse_categorical_accuracy: 0.7395 - val_loss: 0.5128 - val_sparse_categorical_accuracy: 0.7485\n",
      "Epoch 2/20\n",
      "439/439 [==============================] - 6s 14ms/step - loss: 0.4475 - sparse_categorical_accuracy: 0.7908 - val_loss: 0.4877 - val_sparse_categorical_accuracy: 0.7708\n",
      "Epoch 3/20\n",
      "439/439 [==============================] - 6s 14ms/step - loss: 0.4151 - sparse_categorical_accuracy: 0.8103 - val_loss: 0.4313 - val_sparse_categorical_accuracy: 0.8095\n",
      "Epoch 4/20\n",
      "439/439 [==============================] - 6s 14ms/step - loss: 0.3969 - sparse_categorical_accuracy: 0.8232 - val_loss: 0.3754 - val_sparse_categorical_accuracy: 0.8372\n",
      "Epoch 5/20\n",
      "439/439 [==============================] - 6s 14ms/step - loss: 0.3847 - sparse_categorical_accuracy: 0.8292 - val_loss: 0.4382 - val_sparse_categorical_accuracy: 0.8021\n",
      "Epoch 6/20\n",
      "439/439 [==============================] - 6s 14ms/step - loss: 0.3791 - sparse_categorical_accuracy: 0.8318 - val_loss: 0.3990 - val_sparse_categorical_accuracy: 0.8226\n",
      "Epoch 7/20\n",
      "439/439 [==============================] - 6s 14ms/step - loss: 0.3668 - sparse_categorical_accuracy: 0.8369 - val_loss: 0.4359 - val_sparse_categorical_accuracy: 0.8082\n",
      "Epoch 8/20\n",
      "439/439 [==============================] - 6s 14ms/step - loss: 0.3558 - sparse_categorical_accuracy: 0.8417 - val_loss: 0.3571 - val_sparse_categorical_accuracy: 0.8473\n",
      "Epoch 9/20\n",
      "439/439 [==============================] - 6s 14ms/step - loss: 0.3525 - sparse_categorical_accuracy: 0.8435 - val_loss: 0.3447 - val_sparse_categorical_accuracy: 0.8550\n",
      "Epoch 10/20\n",
      "439/439 [==============================] - 6s 14ms/step - loss: 0.3377 - sparse_categorical_accuracy: 0.8521 - val_loss: 0.3685 - val_sparse_categorical_accuracy: 0.8464\n",
      "Epoch 11/20\n",
      "439/439 [==============================] - 6s 14ms/step - loss: 0.3231 - sparse_categorical_accuracy: 0.8594 - val_loss: 0.3700 - val_sparse_categorical_accuracy: 0.8453\n",
      "Epoch 12/20\n",
      "439/439 [==============================] - 6s 14ms/step - loss: 0.3130 - sparse_categorical_accuracy: 0.8618 - val_loss: 0.3660 - val_sparse_categorical_accuracy: 0.8469\n",
      "Epoch 13/20\n",
      "439/439 [==============================] - 6s 14ms/step - loss: 0.2971 - sparse_categorical_accuracy: 0.8716 - val_loss: 0.3410 - val_sparse_categorical_accuracy: 0.8572\n",
      "Epoch 14/20\n",
      "439/439 [==============================] - 6s 14ms/step - loss: 0.2835 - sparse_categorical_accuracy: 0.8773 - val_loss: 0.3626 - val_sparse_categorical_accuracy: 0.8536\n",
      "Epoch 15/20\n",
      "439/439 [==============================] - 6s 14ms/step - loss: 0.2565 - sparse_categorical_accuracy: 0.8916 - val_loss: 0.3664 - val_sparse_categorical_accuracy: 0.8593\n",
      "Epoch 16/20\n",
      "439/439 [==============================] - 6s 14ms/step - loss: 0.2400 - sparse_categorical_accuracy: 0.8987 - val_loss: 0.4672 - val_sparse_categorical_accuracy: 0.8172\n",
      "Epoch 17/20\n",
      "439/439 [==============================] - 6s 14ms/step - loss: 0.2193 - sparse_categorical_accuracy: 0.9103 - val_loss: 0.3925 - val_sparse_categorical_accuracy: 0.8507\n",
      "Epoch 18/20\n",
      "439/439 [==============================] - 6s 14ms/step - loss: 0.1982 - sparse_categorical_accuracy: 0.9175 - val_loss: 0.4523 - val_sparse_categorical_accuracy: 0.8257\n",
      "Epoch 19/20\n",
      "439/439 [==============================] - 6s 14ms/step - loss: 0.1710 - sparse_categorical_accuracy: 0.9300 - val_loss: 0.4383 - val_sparse_categorical_accuracy: 0.8507\n",
      "Epoch 20/20\n",
      "439/439 [==============================] - 6s 14ms/step - loss: 0.1493 - sparse_categorical_accuracy: 0.9413 - val_loss: 0.4621 - val_sparse_categorical_accuracy: 0.8491\n"
     ]
    }
   ],
   "source": [
    "history_BaselineBinary = Binary_BaselineModel.fit_generator(train_generator, validation_data = validation_generator, epochs=20, verbose=1, class_weight=class_weight_dict)"
   ]
  },
  {
   "cell_type": "code",
   "execution_count": 28,
   "metadata": {
    "colab": {
     "base_uri": "https://localhost:8080/",
     "height": 338
    },
    "id": "IgXEmNZaB4Op",
    "outputId": "e0aa1dbb-c566-40a5-e130-abfa4651a2d9"
   },
   "outputs": [
    {
     "data": {
      "image/png": "[encoded data removed]",
      "text/plain": [
       "<Figure size 720x360 with 2 Axes>"
      ]
     },
     "metadata": {
      "needs_background": "light",
      "tags": []
     },
     "output_type": "display_data"
    }
   ],
   "source": [
    "plot_learning_curve(history_BaselineBinary.history['loss'], history_BaselineBinary.history['val_loss'], \n",
    "                    history_BaselineBinary.history['sparse_categorical_accuracy'], history_BaselineBinary.history['val_sparse_categorical_accuracy'], \n",
    "                    metric_name='sparseCatogoricalAccuracy')"
   ]
  },
  {
   "cell_type": "markdown",
   "metadata": {
    "id": "gtl0CLAtCApL"
   },
   "source": [
    "From the above graphs a clear case of overfitting is observed. Hence we can assume that although greyscale model works good with CNN, however in our data corpus the model might not perform well, hence we shift our approach to include RGB images. \n"
   ]
  },
  {
   "cell_type": "code",
   "execution_count": 29,
   "metadata": {
    "id": "jK1RGq6g480b"
   },
   "outputs": [],
   "source": [
    "# Setting up place holders\n",
    "y_hat_all = list()\n",
    "y_all = list()\n",
    "filenames = validation_generator.filenames\n",
    "N_images = len(filenames)\n",
    "batches = 0"
   ]
  },
  {
   "cell_type": "code",
   "execution_count": 33,
   "metadata": {
    "id": "0BAvUN9S49qs"
   },
   "outputs": [],
   "source": [
    "# iterate through the data generator and predict for each batch\n",
    "# hold the predictions and labels\n",
    "for x,y in validation_generator:\n",
    "        y_hat = Binary_BaselineModel.predict(x, verbose=0)\n",
    "        y_hat = np.argmax(y_hat, axis = 1)\n",
    "        #y = np.argmax(y, axis = 1)\n",
    "        y_hat_all = y_hat_all + y_hat.tolist()\n",
    "        y_all = y_all + y.tolist()\n",
    "\n",
    "        batches += 1\n",
    "        if batches >= N_images / batch_size:\n",
    "            # we need to break the loop by hand because\n",
    "            # the generator loops indefinitely\n",
    "            break"
   ]
  },
  {
   "cell_type": "code",
   "execution_count": 34,
   "metadata": {
    "colab": {
     "base_uri": "https://localhost:8080/"
    },
    "id": "v-_n_6Gi4-Yg",
    "outputId": "7a5f7d1b-b725-4ea1-fa33-7c9bf38ac006"
   },
   "outputs": [
    {
     "data": {
      "text/plain": [
       "0.8349606763403306"
      ]
     },
     "execution_count": 34,
     "metadata": {
      "tags": []
     },
     "output_type": "execute_result"
    }
   ],
   "source": [
    "from sklearn.metrics import classification_report\n",
    "from sklearn.metrics import confusion_matrix, accuracy_score, f1_score\n",
    "f1_score(y_all, y_hat_all, average='macro')"
   ]
  },
  {
   "cell_type": "code",
   "execution_count": 35,
   "metadata": {
    "colab": {
     "base_uri": "https://localhost:8080/"
    },
    "id": "Phi8VoCT5EFB",
    "outputId": "7d4c54e0-5a47-45f5-b67b-ce3f4cf0d906"
   },
   "outputs": [
    {
     "name": "stdout",
     "output_type": "stream",
     "text": [
      "              precision    recall  f1-score   support\n",
      "\n",
      "           0       0.91      0.86      0.88      2934\n",
      "           1       0.75      0.83      0.79      1507\n",
      "\n",
      "    accuracy                           0.85      4441\n",
      "   macro avg       0.83      0.84      0.83      4441\n",
      "weighted avg       0.85      0.85      0.85      4441\n",
      "\n"
     ]
    }
   ],
   "source": [
    "target = ['0','1']\n",
    "print(classification_report(y_all,y_hat_all,target_names=target))"
   ]
  },
  {
   "cell_type": "markdown",
   "metadata": {
    "id": "-8numzXAH5an"
   },
   "source": [
    "## **Incremental model and hyperparameter tuning** <a class=\"anchor\" id=\"6.4\"></a>"
   ]
  },
  {
   "cell_type": "markdown",
   "metadata": {
    "id": "8W4QU6iyIsub"
   },
   "source": [
    "Based on the approach used in our baseline model, we can see that the model is largely overfitting. To reduce this we have used the following approach: \n",
    "- We have changed the Data Augmentation to include the images in their orignal RGB matrices. \n",
    "- The Regularization parameters are used to decrease the overfitting which can be caused due to back propagation. \n",
    "- Including dropout layers is an excellent approach since drop out works by randomly setting the outgoing edges of hidden units to 0 at each update of the training phase. \n",
    "- Further, we have chosen 'Adam()' optimizer which works good with our non-linear activation function 'Relu' and which is an advanced version of Stochastic Gradient Descent algorithm used for the loss optimization.\n",
    "\n",
    "Getting the right hyper-parameters was an interative process of trying numerous parameters, changing the convolution layers as well as the MLP layers along with the evaluation metrics. \n",
    "\n"
   ]
  },
  {
   "cell_type": "code",
   "execution_count": 41,
   "metadata": {
    "colab": {
     "base_uri": "https://localhost:8080/"
    },
    "id": "v48n36b_MWQR",
    "outputId": "76ce58b3-eca9-4f21-c519-beb0ba186adc"
   },
   "outputs": [
    {
     "name": "stdout",
     "output_type": "stream",
     "text": [
      "Found 14022 validated image filenames belonging to 2 classes.\n",
      "Found 4441 validated image filenames belonging to 2 classes.\n",
      "Found 1817 validated image filenames belonging to 2 classes.\n"
     ]
    }
   ],
   "source": [
    "from tensorflow.keras.preprocessing.image import ImageDataGenerator\n",
    "TrainData['isCancerous'] = TrainData['isCancerous'].astype('str')\n",
    "ValData['isCancerous'] = ValData['isCancerous'].astype('str')\n",
    "TestingData['isCancerous'] = TestingData['isCancerous'].astype('str')\n",
    "train_datagen = ImageDataGenerator(rescale=1./255, data_format='channels_last')\n",
    "val_datagen = ImageDataGenerator(rescale=1./255, data_format='channels_last')\n",
    "test_datagen = ImageDataGenerator(rescale=1./255, data_format='channels_last')\n",
    "\n",
    "batch_size = 32\n",
    "\n",
    "train_generator = train_datagen.flow_from_dataframe(\n",
    "        dataframe=TrainData,\n",
    "        directory='./',\n",
    "        x_col=\"ImageName\",\n",
    "        y_col=\"isCancerous\",\n",
    "        target_size=(27, 27),\n",
    "        batch_size=batch_size,\n",
    "        class_mode='sparse')\n",
    "\n",
    "validation_generator = val_datagen.flow_from_dataframe(\n",
    "        dataframe=ValData,\n",
    "        directory='./',\n",
    "        x_col=\"ImageName\",\n",
    "        y_col=\"isCancerous\",\n",
    "        target_size=(27, 27),\n",
    "        batch_size=batch_size,\n",
    "        class_mode='sparse')\n",
    "\n",
    "testing_generator = test_datagen.flow_from_dataframe(\n",
    "      dataframe=TestingData,\n",
    "      directory='./',\n",
    "      x_col=\"ImageName\",\n",
    "      y_col='isCancerous',\n",
    "      target_size=(27,27),\n",
    "      batch_size=batch_size,\n",
    "      class_mode='sparse')"
   ]
  },
  {
   "cell_type": "code",
   "execution_count": 42,
   "metadata": {
    "id": "MQbO_wQNIsKz"
   },
   "outputs": [],
   "source": [
    "reg_lambda = 0.01\n",
    "\n",
    "Final_Binary = tf.keras.Sequential([\n",
    "    #VGG block 1\n",
    "    tf.keras.layers.Conv2D(32, (3, 3), activation='relu', padding='same', kernel_initializer='he_normal', \n",
    "                           kernel_regularizer=tf.keras.regularizers.l2(reg_lambda), input_shape=(27, 27, 3)),\n",
    "    tf.keras.layers.Conv2D(32, (3, 3), activation='relu', padding='same', \n",
    "                           kernel_regularizer=tf.keras.regularizers.l2(reg_lambda)),\n",
    "    tf.keras.layers.MaxPooling2D((2, 2)),\n",
    "    \n",
    "    #VGG block 2\n",
    "    tf.keras.layers.Conv2D(64, (3, 3), activation='relu', padding='same', kernel_initializer='he_normal',\n",
    "                           kernel_regularizer=tf.keras.regularizers.l2(reg_lambda)),\n",
    "    tf.keras.layers.Conv2D(64, (3, 3), activation='relu', padding='same', \n",
    "                           kernel_regularizer=tf.keras.regularizers.l2(reg_lambda)),\n",
    "    tf.keras.layers.MaxPooling2D((2, 2)),\n",
    "    \n",
    "    #VGG block 3\n",
    "    tf.keras.layers.Conv2D(128, (3, 3), activation='relu', padding='same', kernel_initializer='he_normal',\n",
    "                           kernel_regularizer=tf.keras.regularizers.l2(reg_lambda)),\n",
    "    tf.keras.layers.Conv2D(128, (3, 3), activation='relu', padding='same', kernel_initializer='he_normal',\n",
    "                           kernel_regularizer=tf.keras.regularizers.l2(reg_lambda)),\n",
    "    tf.keras.layers.MaxPooling2D((2, 2)),\n",
    "    \n",
    "    tf.keras.layers.Flatten(),\n",
    "    tf.keras.layers.Dense(128, activation='relu'),\n",
    "    tf.keras.layers.Dropout(.2),\n",
    "    tf.keras.layers.Dense(2),\n",
    "])"
   ]
  },
  {
   "cell_type": "code",
   "execution_count": 43,
   "metadata": {
    "id": "-pGlLatKH4M0"
   },
   "outputs": [],
   "source": [
    "opt = tf.keras.optimizers.Adam(lr=0.001)\n",
    "Final_Binary.compile(optimizer=opt,\n",
    "              loss = tf.keras.losses.SparseCategoricalCrossentropy(from_logits=True),\n",
    "              metrics='sparse_categorical_accuracy')"
   ]
  },
  {
   "cell_type": "code",
   "execution_count": 44,
   "metadata": {
    "colab": {
     "base_uri": "https://localhost:8080/"
    },
    "id": "sGfYW_ZtMxnd",
    "outputId": "6a04ab0a-3a7a-4739-aa0b-76f3bc6d8b01"
   },
   "outputs": [
    {
     "name": "stdout",
     "output_type": "stream",
     "text": [
      "Epoch 1/50\n",
      "439/439 [==============================] - 7s 14ms/step - loss: 1.7945 - sparse_categorical_accuracy: 0.7508 - val_loss: 0.8088 - val_sparse_categorical_accuracy: 0.8183\n",
      "Epoch 2/50\n",
      "439/439 [==============================] - 5s 12ms/step - loss: 0.7272 - sparse_categorical_accuracy: 0.8263 - val_loss: 0.6320 - val_sparse_categorical_accuracy: 0.8503\n",
      "Epoch 3/50\n",
      "439/439 [==============================] - 5s 13ms/step - loss: 0.6378 - sparse_categorical_accuracy: 0.8387 - val_loss: 0.8112 - val_sparse_categorical_accuracy: 0.7305\n",
      "Epoch 4/50\n",
      "439/439 [==============================] - 6s 13ms/step - loss: 0.5951 - sparse_categorical_accuracy: 0.8403 - val_loss: 0.6658 - val_sparse_categorical_accuracy: 0.7917\n",
      "Epoch 5/50\n",
      "439/439 [==============================] - 6s 13ms/step - loss: 0.5620 - sparse_categorical_accuracy: 0.8477 - val_loss: 0.4822 - val_sparse_categorical_accuracy: 0.8820\n",
      "Epoch 6/50\n",
      "439/439 [==============================] - 6s 13ms/step - loss: 0.5330 - sparse_categorical_accuracy: 0.8515 - val_loss: 0.4515 - val_sparse_categorical_accuracy: 0.8863\n",
      "Epoch 7/50\n",
      "439/439 [==============================] - 6s 13ms/step - loss: 0.5177 - sparse_categorical_accuracy: 0.8469 - val_loss: 0.5649 - val_sparse_categorical_accuracy: 0.8210\n",
      "Epoch 8/50\n",
      "439/439 [==============================] - 6s 13ms/step - loss: 0.4914 - sparse_categorical_accuracy: 0.8585 - val_loss: 0.4327 - val_sparse_categorical_accuracy: 0.8840\n",
      "Epoch 9/50\n",
      "439/439 [==============================] - 6s 13ms/step - loss: 0.4871 - sparse_categorical_accuracy: 0.8534 - val_loss: 0.4494 - val_sparse_categorical_accuracy: 0.8737\n",
      "Epoch 10/50\n",
      "439/439 [==============================] - 6s 13ms/step - loss: 0.4744 - sparse_categorical_accuracy: 0.8587 - val_loss: 0.4307 - val_sparse_categorical_accuracy: 0.8748\n",
      "Epoch 11/50\n",
      "439/439 [==============================] - 6s 13ms/step - loss: 0.4623 - sparse_categorical_accuracy: 0.8601 - val_loss: 0.4307 - val_sparse_categorical_accuracy: 0.8721\n",
      "Epoch 12/50\n",
      "439/439 [==============================] - 6s 13ms/step - loss: 0.4522 - sparse_categorical_accuracy: 0.8603 - val_loss: 0.4060 - val_sparse_categorical_accuracy: 0.8847\n",
      "Epoch 13/50\n",
      "439/439 [==============================] - 6s 13ms/step - loss: 0.4572 - sparse_categorical_accuracy: 0.8584 - val_loss: 0.4048 - val_sparse_categorical_accuracy: 0.8838\n",
      "Epoch 14/50\n",
      "439/439 [==============================] - 6s 13ms/step - loss: 0.4438 - sparse_categorical_accuracy: 0.8616 - val_loss: 0.4019 - val_sparse_categorical_accuracy: 0.8773\n",
      "Epoch 15/50\n",
      "439/439 [==============================] - 6s 13ms/step - loss: 0.4497 - sparse_categorical_accuracy: 0.8578 - val_loss: 0.6546 - val_sparse_categorical_accuracy: 0.7537\n",
      "Epoch 16/50\n",
      "439/439 [==============================] - 6s 13ms/step - loss: 0.4473 - sparse_categorical_accuracy: 0.8553 - val_loss: 0.4516 - val_sparse_categorical_accuracy: 0.8624\n",
      "Epoch 17/50\n",
      "439/439 [==============================] - 6s 13ms/step - loss: 0.4319 - sparse_categorical_accuracy: 0.8629 - val_loss: 0.4247 - val_sparse_categorical_accuracy: 0.8683\n",
      "Epoch 18/50\n",
      "439/439 [==============================] - 6s 13ms/step - loss: 0.4237 - sparse_categorical_accuracy: 0.8632 - val_loss: 0.3954 - val_sparse_categorical_accuracy: 0.8759\n",
      "Epoch 19/50\n",
      "439/439 [==============================] - 6s 13ms/step - loss: 0.4138 - sparse_categorical_accuracy: 0.8683 - val_loss: 0.3620 - val_sparse_categorical_accuracy: 0.8885\n",
      "Epoch 20/50\n",
      "439/439 [==============================] - 6s 13ms/step - loss: 0.4134 - sparse_categorical_accuracy: 0.8671 - val_loss: 0.3493 - val_sparse_categorical_accuracy: 0.8962\n",
      "Epoch 21/50\n",
      "439/439 [==============================] - 6s 13ms/step - loss: 0.4060 - sparse_categorical_accuracy: 0.8709 - val_loss: 0.3763 - val_sparse_categorical_accuracy: 0.8784\n",
      "Epoch 22/50\n",
      "439/439 [==============================] - 6s 13ms/step - loss: 0.4051 - sparse_categorical_accuracy: 0.8681 - val_loss: 0.3693 - val_sparse_categorical_accuracy: 0.8816\n",
      "Epoch 23/50\n",
      "439/439 [==============================] - 6s 13ms/step - loss: 0.4013 - sparse_categorical_accuracy: 0.8647 - val_loss: 0.3450 - val_sparse_categorical_accuracy: 0.8930\n",
      "Epoch 24/50\n",
      "439/439 [==============================] - 6s 13ms/step - loss: 0.3947 - sparse_categorical_accuracy: 0.8697 - val_loss: 0.4242 - val_sparse_categorical_accuracy: 0.8602\n",
      "Epoch 25/50\n",
      "439/439 [==============================] - 6s 13ms/step - loss: 0.3892 - sparse_categorical_accuracy: 0.8721 - val_loss: 0.5225 - val_sparse_categorical_accuracy: 0.8007\n",
      "Epoch 26/50\n",
      "439/439 [==============================] - 6s 13ms/step - loss: 0.3941 - sparse_categorical_accuracy: 0.8656 - val_loss: 0.3379 - val_sparse_categorical_accuracy: 0.8906\n",
      "Epoch 27/50\n",
      "439/439 [==============================] - 6s 13ms/step - loss: 0.3890 - sparse_categorical_accuracy: 0.8671 - val_loss: 0.3714 - val_sparse_categorical_accuracy: 0.8804\n",
      "Epoch 28/50\n",
      "439/439 [==============================] - 6s 13ms/step - loss: 0.3899 - sparse_categorical_accuracy: 0.8671 - val_loss: 0.4047 - val_sparse_categorical_accuracy: 0.8660\n",
      "Epoch 29/50\n",
      "439/439 [==============================] - 6s 13ms/step - loss: 0.3892 - sparse_categorical_accuracy: 0.8656 - val_loss: 0.3300 - val_sparse_categorical_accuracy: 0.8955\n",
      "Epoch 30/50\n",
      "439/439 [==============================] - 6s 13ms/step - loss: 0.3803 - sparse_categorical_accuracy: 0.8687 - val_loss: 0.4211 - val_sparse_categorical_accuracy: 0.8500\n",
      "Epoch 31/50\n",
      "439/439 [==============================] - 6s 13ms/step - loss: 0.3819 - sparse_categorical_accuracy: 0.8669 - val_loss: 0.4511 - val_sparse_categorical_accuracy: 0.8329\n",
      "Epoch 32/50\n",
      "439/439 [==============================] - 6s 13ms/step - loss: 0.3769 - sparse_categorical_accuracy: 0.8713 - val_loss: 0.3640 - val_sparse_categorical_accuracy: 0.8800\n",
      "Epoch 33/50\n",
      "439/439 [==============================] - 6s 13ms/step - loss: 0.3735 - sparse_categorical_accuracy: 0.8712 - val_loss: 0.3725 - val_sparse_categorical_accuracy: 0.8719\n",
      "Epoch 34/50\n",
      "439/439 [==============================] - 6s 13ms/step - loss: 0.3746 - sparse_categorical_accuracy: 0.8695 - val_loss: 0.4243 - val_sparse_categorical_accuracy: 0.8467\n",
      "Epoch 35/50\n",
      "439/439 [==============================] - 6s 13ms/step - loss: 0.3734 - sparse_categorical_accuracy: 0.8689 - val_loss: 0.3264 - val_sparse_categorical_accuracy: 0.8892\n",
      "Epoch 36/50\n",
      "439/439 [==============================] - 6s 13ms/step - loss: 0.3742 - sparse_categorical_accuracy: 0.8710 - val_loss: 0.3266 - val_sparse_categorical_accuracy: 0.8908\n",
      "Epoch 37/50\n",
      "439/439 [==============================] - 6s 13ms/step - loss: 0.3706 - sparse_categorical_accuracy: 0.8722 - val_loss: 0.3263 - val_sparse_categorical_accuracy: 0.8897\n",
      "Epoch 38/50\n",
      "439/439 [==============================] - 6s 13ms/step - loss: 0.3611 - sparse_categorical_accuracy: 0.8773 - val_loss: 0.3359 - val_sparse_categorical_accuracy: 0.8879\n",
      "Epoch 39/50\n",
      "439/439 [==============================] - 6s 13ms/step - loss: 0.3644 - sparse_categorical_accuracy: 0.8725 - val_loss: 0.4066 - val_sparse_categorical_accuracy: 0.8527\n",
      "Epoch 40/50\n",
      "439/439 [==============================] - 6s 13ms/step - loss: 0.3725 - sparse_categorical_accuracy: 0.8705 - val_loss: 0.3551 - val_sparse_categorical_accuracy: 0.8800\n",
      "Epoch 41/50\n",
      "439/439 [==============================] - 6s 13ms/step - loss: 0.3666 - sparse_categorical_accuracy: 0.8695 - val_loss: 0.3322 - val_sparse_categorical_accuracy: 0.8863\n",
      "Epoch 42/50\n",
      "439/439 [==============================] - 6s 13ms/step - loss: 0.3655 - sparse_categorical_accuracy: 0.8701 - val_loss: 0.3810 - val_sparse_categorical_accuracy: 0.8644\n",
      "Epoch 43/50\n",
      "439/439 [==============================] - 6s 13ms/step - loss: 0.3629 - sparse_categorical_accuracy: 0.8698 - val_loss: 0.3313 - val_sparse_categorical_accuracy: 0.8892\n",
      "Epoch 44/50\n",
      "439/439 [==============================] - 6s 13ms/step - loss: 0.3632 - sparse_categorical_accuracy: 0.8733 - val_loss: 0.6265 - val_sparse_categorical_accuracy: 0.7530\n",
      "Epoch 45/50\n",
      "439/439 [==============================] - 6s 13ms/step - loss: 0.3618 - sparse_categorical_accuracy: 0.8728 - val_loss: 0.3124 - val_sparse_categorical_accuracy: 0.8935\n",
      "Epoch 46/50\n",
      "439/439 [==============================] - 6s 13ms/step - loss: 0.3581 - sparse_categorical_accuracy: 0.8756 - val_loss: 0.3227 - val_sparse_categorical_accuracy: 0.8892\n",
      "Epoch 47/50\n",
      "439/439 [==============================] - 6s 13ms/step - loss: 0.3634 - sparse_categorical_accuracy: 0.8716 - val_loss: 0.3213 - val_sparse_categorical_accuracy: 0.8858\n",
      "Epoch 48/50\n",
      "439/439 [==============================] - 6s 13ms/step - loss: 0.3597 - sparse_categorical_accuracy: 0.8752 - val_loss: 0.3454 - val_sparse_categorical_accuracy: 0.8782\n",
      "Epoch 49/50\n",
      "439/439 [==============================] - 6s 13ms/step - loss: 0.3533 - sparse_categorical_accuracy: 0.8733 - val_loss: 0.3242 - val_sparse_categorical_accuracy: 0.8933\n",
      "Epoch 50/50\n",
      "439/439 [==============================] - 6s 13ms/step - loss: 0.3616 - sparse_categorical_accuracy: 0.8695 - val_loss: 0.3241 - val_sparse_categorical_accuracy: 0.8890\n"
     ]
    }
   ],
   "source": [
    "history = Final_Binary.fit_generator(train_generator, validation_data = validation_generator, epochs=50, verbose=1, class_weight=class_weight_dict)"
   ]
  },
  {
   "cell_type": "code",
   "execution_count": 45,
   "metadata": {
    "colab": {
     "base_uri": "https://localhost:8080/",
     "height": 338
    },
    "id": "LhaRnJKvP4LK",
    "outputId": "86ecebde-bf22-4e22-a513-8a5aacb7513e"
   },
   "outputs": [
    {
     "data": {
      "image/png": "[encoded data removed]",
      "text/plain": [
       "<Figure size 720x360 with 2 Axes>"
      ]
     },
     "metadata": {
      "needs_background": "light",
      "tags": []
     },
     "output_type": "display_data"
    }
   ],
   "source": [
    "plot_learning_curve(history.history['loss'], history.history['val_loss'], \n",
    "                    history.history['sparse_categorical_accuracy'], history.history['val_sparse_categorical_accuracy'], \n",
    "                    metric_name='sparseCatogoricalAccuracy')"
   ]
  },
  {
   "cell_type": "markdown",
   "metadata": {
    "id": "jsTxZH8vP9GI"
   },
   "source": [
    "## **Performance Evaluation** <a class=\"anchor\" id=\"6.5\"></a>\n",
    "\n",
    "From the below plots we can observe that a better learning model. Now, since we have implemented a better model, lets talk about its performance and the metrics used to measure the same.\n",
    "\n",
    "- Two main graphs are used to evaluate the model on train and validation data. These graphs show the decrease in losses and the increase in the accuracy score. \n",
    "- We can still observe some oscillations for the validation set, but overall the performance of the model is good. \n",
    "- The loss function used to evaluate the model is `SparseCategoricalCrossEntropy` defined in the keras library. Since we are using this model to perform the binary classificaiton, hence, we are going with this loss function. \n",
    "- We have calculated the epoch with default step size and used 50 epochs to run our model. Epoch values can be increase, however, consistency in the model outputs can be observed. \n",
    "- Overall in the performance evaluation of the final model we can state that the performance of the model is increase after fine tuning by using the RGB images, F1_score metrics, regluarizations and dropout layers. \n",
    "\n"
   ]
  },
  {
   "cell_type": "code",
   "execution_count": 46,
   "metadata": {
    "colab": {
     "base_uri": "https://localhost:8080/",
     "height": 338
    },
    "id": "HR8AXbOuSKqI",
    "outputId": "38a26376-af52-4079-9d19-9dddfb262a21"
   },
   "outputs": [
    {
     "data": {
      "image/png": "[encoded data removed]",
      "text/plain": [
       "<Figure size 720x360 with 2 Axes>"
      ]
     },
     "metadata": {
      "needs_background": "light",
      "tags": []
     },
     "output_type": "display_data"
    }
   ],
   "source": [
    "plot_learning_curve(history.history['loss'], history.history['val_loss'], \n",
    "                    history.history['sparse_categorical_accuracy'], history.history['val_sparse_categorical_accuracy'], \n",
    "                    metric_name='sparseCatogoricalAccuracy')"
   ]
  },
  {
   "cell_type": "code",
   "execution_count": 47,
   "metadata": {
    "id": "GwYsEQ2W8aoV"
   },
   "outputs": [],
   "source": [
    "# Setting up place holders\n",
    "y_hat_all = list()\n",
    "y_all = list()\n",
    "filenames = validation_generator.filenames\n",
    "N_images = len(filenames)\n",
    "batches = 0"
   ]
  },
  {
   "cell_type": "code",
   "execution_count": 48,
   "metadata": {
    "id": "wQKE_xvN8alB"
   },
   "outputs": [],
   "source": [
    "# iterate through the data generator and predict for each batch\n",
    "# hold the predictions and labels\n",
    "for x,y in validation_generator:\n",
    "        y_hat = Final_Binary.predict(x, verbose=0)\n",
    "        y_hat = np.argmax(y_hat, axis = 1)\n",
    "        #y = np.argmax(y, axis = 1)\n",
    "        y_hat_all = y_hat_all + y_hat.tolist()\n",
    "        y_all = y_all + y.tolist()\n",
    "\n",
    "        batches += 1\n",
    "        if batches >= N_images / batch_size:\n",
    "            # we need to break the loop by hand because\n",
    "            # the generator loops indefinitely\n",
    "            break"
   ]
  },
  {
   "cell_type": "code",
   "execution_count": 49,
   "metadata": {
    "colab": {
     "base_uri": "https://localhost:8080/"
    },
    "id": "1gqYsy1a8agl",
    "outputId": "7f5c4304-6901-4f71-cae8-0113fb882251"
   },
   "outputs": [
    {
     "data": {
      "text/plain": [
       "0.8785499884425141"
      ]
     },
     "execution_count": 49,
     "metadata": {
      "tags": []
     },
     "output_type": "execute_result"
    }
   ],
   "source": [
    "from sklearn.metrics import classification_report\n",
    "from sklearn.metrics import confusion_matrix, accuracy_score, f1_score\n",
    "f1_score(y_all, y_hat_all, average='macro')"
   ]
  },
  {
   "cell_type": "code",
   "execution_count": 50,
   "metadata": {
    "colab": {
     "base_uri": "https://localhost:8080/"
    },
    "id": "hF8bgMRM8acW",
    "outputId": "98c5dec8-62aa-4806-80c8-05f9abf8c75a"
   },
   "outputs": [
    {
     "name": "stdout",
     "output_type": "stream",
     "text": [
      "              precision    recall  f1-score   support\n",
      "\n",
      "           0       0.93      0.89      0.91      2934\n",
      "           1       0.81      0.88      0.84      1507\n",
      "\n",
      "    accuracy                           0.89      4441\n",
      "   macro avg       0.87      0.89      0.88      4441\n",
      "weighted avg       0.89      0.89      0.89      4441\n",
      "\n"
     ]
    }
   ],
   "source": [
    "target = ['0','1']\n",
    "print(classification_report(y_all,y_hat_all,target_names=target))"
   ]
  },
  {
   "cell_type": "markdown",
   "metadata": {
    "id": "DxGiXStPS0j_"
   },
   "source": [
    "## **Predictions** <a class=\"anchor\" id=\"6.6\"></a>\n",
    "\n",
    "Since we have evaluated our model and now we know that the best model is the VGG architecture with defined convolutional and MLP layers, we can use this data on the testing data to generate predictions and see the performance of the model on unseen data. \n",
    "\n",
    "To do so we have used the following steps:\n",
    "- Since tfa addons that we are using in the training takes parameters for each epoch, we cannot use the same metrics to validate on test data as we will be having the test information as predictions in an array. \n",
    "- Hence, to do so we will be using the sklearn metrics F1 score to predict and observe the score. \n",
    "- We will first set place holders and iterate them through each batch of generated images from the test generator and then calculate F1 score for all the batches. \n",
    "- We will then send that information to the sklearn metrics to observe the overall F1 score. "
   ]
  },
  {
   "cell_type": "code",
   "execution_count": 51,
   "metadata": {
    "id": "pHtzEGaFUXbh"
   },
   "outputs": [],
   "source": [
    "# Setting up place holders\n",
    "y_hat_all = list()\n",
    "y_all = list()\n",
    "filenames = testing_generator.filenames\n",
    "N_images = len(filenames)\n",
    "batches = 0"
   ]
  },
  {
   "cell_type": "code",
   "execution_count": 53,
   "metadata": {
    "id": "bRFlZXmfUahu"
   },
   "outputs": [],
   "source": [
    "# iterate through the data generator and predict for each batch\n",
    "# hold the predictions and labels\n",
    "for x,y in testing_generator:\n",
    "        y_hat = Final_Binary.predict(x, verbose=0)\n",
    "        y_hat = np.argmax(y_hat, axis = 1)\n",
    "        y_hat_all = y_hat_all + y_hat.tolist()\n",
    "        y_all = y_all + y.tolist()\n",
    "\n",
    "        batches += 1\n",
    "        if batches >= N_images / batch_size:\n",
    "            # we need to break the loop by hand because\n",
    "            # the generator loops indefinitely\n",
    "            break"
   ]
  },
  {
   "cell_type": "code",
   "execution_count": 54,
   "metadata": {
    "colab": {
     "base_uri": "https://localhost:8080/"
    },
    "id": "oXZB_OfyUcEW",
    "outputId": "00c436ef-b278-4f64-97ae-06868c234890"
   },
   "outputs": [
    {
     "data": {
      "text/plain": [
       "0.9099919528965589"
      ]
     },
     "execution_count": 54,
     "metadata": {
      "tags": []
     },
     "output_type": "execute_result"
    }
   ],
   "source": [
    "from sklearn.metrics import classification_report\n",
    "from sklearn.metrics import confusion_matrix, accuracy_score, f1_score\n",
    "f1_score(y_all, y_hat_all, average='macro')"
   ]
  },
  {
   "cell_type": "markdown",
   "metadata": {
    "id": "QOVuBQHIUlrx"
   },
   "source": [
    "On the unseen data, we can observe an *F1 score of 0.91 that is 91%.*"
   ]
  },
  {
   "cell_type": "markdown",
   "metadata": {
    "id": "2qSs4ODp66HS"
   },
   "source": [
    "# **Multiclass Classification for `cellType`** <a class=\"anchor\" id=\"7\"></a>\n",
    "\n",
    "In this section we have implemented the multiclass classification using Convolutional Nueral Networks. This model takes its own data inputs and is trained separately from the previous model. Although the model might have similar architechture that is VGG, but the training and feature engineering is performed independently. \n",
    "\n",
    "In this chuck we aim to classify the cellType information containing 4 types of cells:\n",
    "  - Fibroblast\n",
    "  - Inflammatory\n",
    "  - Epithelial\n",
    "  - Others\n",
    "\n"
   ]
  },
  {
   "cell_type": "markdown",
   "metadata": {
    "id": "0JAnDzOdWuFf"
   },
   "source": [
    "## **Data Splitting** <a class=\"anchor\" id=\"7.1\"></a>\n",
    "\n",
    "Since we know that the multiclass classification information is only given in the main data, hence, we use only that infromation to train and evaluate our model. "
   ]
  },
  {
   "cell_type": "code",
   "execution_count": 64,
   "metadata": {
    "id": "WV23C49_9MG0"
   },
   "outputs": [],
   "source": [
    "data = pd.read_csv(\"./data_labels_mainData.csv\")"
   ]
  },
  {
   "cell_type": "code",
   "execution_count": 65,
   "metadata": {
    "id": "JgZsd1QkYtbS"
   },
   "outputs": [],
   "source": [
    "MulticlassList = []\n",
    "\n",
    "for i in range(1,61):\n",
    "  MulticlassList.append(i)"
   ]
  },
  {
   "cell_type": "code",
   "execution_count": 66,
   "metadata": {
    "colab": {
     "base_uri": "https://localhost:8080/"
    },
    "id": "iv_WlIEnYvZE",
    "outputId": "2cd4a36c-aad3-40b9-b2a6-8ed7aed45d57"
   },
   "outputs": [
    {
     "name": "stdout",
     "output_type": "stream",
     "text": [
      "TrainData shape:  (6696, 6)\n",
      "ValData shape:  (2111, 6)\n",
      "TestData shape:  (1089, 6)\n"
     ]
    }
   ],
   "source": [
    "from sklearn.model_selection import train_test_split\n",
    "trainmul,testtemp =  train_test_split(MulticlassList, test_size=0.3, random_state=99)\n",
    "valmul,testingmul = train_test_split(testtemp, test_size=0.33, random_state=99)\n",
    "Mul_TrainData = data[data['patientID'].isin(trainmul)]\n",
    "Mul_ValData = data[data['patientID'].isin(valmul)]\n",
    "Mul_TestingData = data[data['patientID'].isin(testingmul)]\n",
    "print(\"TrainData shape: \",Mul_TrainData.shape)\n",
    "print(\"ValData shape: \",Mul_ValData.shape)\n",
    "print(\"TestData shape: \",Mul_TestingData.shape)\n",
    "Mul_ValData.reset_index(drop=True,inplace=True)\n",
    "Mul_TrainData.reset_index(drop=True,inplace=True)\n",
    "Mul_TestingData.reset_index(drop=True,inplace=True)\n",
    "Mul_TrainData['ImageName'] = './patch_images/'+Mul_TrainData['ImageName'].astype(str)\n",
    "Mul_ValData['ImageName'] = './patch_images/'+Mul_ValData['ImageName'].astype(str)\n",
    "Mul_TestingData['ImageName'] = './patch_images/'+Mul_TestingData['ImageName'].astype(str)\n",
    "Mul_TrainData['cellType'] = Mul_TrainData['cellType'].astype('str')\n",
    "Mul_ValData['cellType'] = Mul_ValData['cellType'].astype('str')\n",
    "Mul_TestingData['cellType'] = Mul_TestingData['cellType'].astype('str')"
   ]
  },
  {
   "cell_type": "code",
   "execution_count": 67,
   "metadata": {
    "colab": {
     "base_uri": "https://localhost:8080/"
    },
    "id": "xF81q01yY0vu",
    "outputId": "c7077361-0e03-4e45-e513-7eeee7bbcff7"
   },
   "outputs": [
    {
     "name": "stdout",
     "output_type": "stream",
     "text": [
      "Cell Type distributions on Training\n",
      " 2    2748\n",
      "1    1683\n",
      "0    1328\n",
      "3     937\n",
      "Name: cellType, dtype: int64\n",
      "------------------------------------------\n",
      "Cell Type distributions on Validation\n",
      " 2    980\n",
      "1    391\n",
      "0    372\n",
      "3    368\n",
      "Name: cellType, dtype: int64\n",
      "------------------------------------------\n",
      "Cell Type distributions on Testing\n",
      " 1    469\n",
      "2    351\n",
      "0    188\n",
      "3     81\n",
      "Name: cellType, dtype: int64\n",
      "------------------------------------------\n"
     ]
    }
   ],
   "source": [
    "print(\"Cell Type distributions on Training\\n\",Mul_TrainData['cellType'].value_counts())\n",
    "print(\"------------------------------------------\")\n",
    "print(\"Cell Type distributions on Validation\\n\",Mul_ValData['cellType'].value_counts())\n",
    "print(\"------------------------------------------\")\n",
    "print(\"Cell Type distributions on Testing\\n\",Mul_TestingData['cellType'].value_counts())\n",
    "print(\"------------------------------------------\")"
   ]
  },
  {
   "cell_type": "markdown",
   "metadata": {
    "id": "71koJkAMaEON"
   },
   "source": [
    "## **Data Augmentation** <a class=\"anchor\" id=\"7.2\"></a>\n",
    "\n",
    "- We need to read the images for multiclass prediction into training and validation data. ImageDataGenerator helps to augment images with the help of different techniques like roattion, standardization, shifts, brightness change and more. One of the main advantages of this is it provides real time data augmentation. that is it generstes augmented iamges while your model is training. \n",
    "\n",
    "- We rescale the data by dividing by 255 and then by choosing data_format as 'channels_last' we are converting image into format the format of [batch_size,image Height, image Width, No of channels]. 'flow_from_dataframe()' helps to read the images and labels from the dataframe. Since we our performing a categorical task we set the class_mode to categorical and set the batch_size to 32, this value can also be changed if required."
   ]
  },
  {
   "cell_type": "code",
   "execution_count": 70,
   "metadata": {
    "colab": {
     "base_uri": "https://localhost:8080/"
    },
    "id": "lqyxMgrjaDvP",
    "outputId": "22b3242b-d85d-4bb8-c1df-a90c5ae3cc6f"
   },
   "outputs": [
    {
     "name": "stdout",
     "output_type": "stream",
     "text": [
      "Found 6696 validated image filenames belonging to 4 classes.\n",
      "Found 2111 validated image filenames belonging to 4 classes.\n",
      "Found 1089 validated image filenames belonging to 4 classes.\n"
     ]
    }
   ],
   "source": [
    "\n",
    "from tensorflow.keras.preprocessing.image import ImageDataGenerator\n",
    "\n",
    "train_datagen = ImageDataGenerator(rescale=1./255, data_format='channels_last')\n",
    "val_datagen = ImageDataGenerator(rescale=1./255, data_format='channels_last')\n",
    "test_datagen = ImageDataGenerator(rescale=1./255, data_format='channels_last')\n",
    "\n",
    "batch_size = 32\n",
    "\n",
    "train_generator = train_datagen.flow_from_dataframe(\n",
    "        dataframe=Mul_TrainData,\n",
    "        directory='./',\n",
    "        x_col=\"ImageName\",\n",
    "        y_col=\"cellType\",\n",
    "        target_size=(27, 27),\n",
    "        random_state = 99,\n",
    "        batch_size=batch_size,\n",
    "        class_mode='sparse')\n",
    "\n",
    "validation_generator = val_datagen.flow_from_dataframe(\n",
    "        dataframe=Mul_ValData,\n",
    "        directory='./',\n",
    "        x_col=\"ImageName\",\n",
    "        y_col=\"cellType\",\n",
    "        target_size=(27, 27),\n",
    "        random_state = 99,\n",
    "        batch_size=batch_size,\n",
    "        class_mode='sparse')\n",
    "\n",
    "Testing_generator = test_datagen.flow_from_dataframe(\n",
    "        dataframe=Mul_TestingData,\n",
    "        directory='./',\n",
    "        x_col=\"ImageName\",\n",
    "        y_col=\"cellType\",\n",
    "        target_size=(27,27),\n",
    "        random_state = 99,\n",
    "        batch_size=batch_size,\n",
    "        class_mode='sparse')\n"
   ]
  },
  {
   "cell_type": "markdown",
   "metadata": {
    "id": "Po534LUQaray"
   },
   "source": [
    "## **Base Model Implementation** <a class=\"anchor\" id=\"7.3\"></a>\n",
    "\n",
    "- The first step in building a model is to set up an evaluation metric. As our target label (cell type) is not balanced we will use f1_score as our metric and sparse categorical cross entropy as our loss function. \n",
    "\n",
    "- We are considering a VGG architecture in building our model but, with some changes in our layers and parameters. Our model takes inspiration from the VGG architecture but with some changes. \n",
    "\n",
    "- We will start our base model with 3 Con2D layers. We will be using relu as our activation function due to the same reasons as mentioned above.\n",
    "\n",
    "- We are using a maxpooling layer then with a stride of 2*2 to avoid overfitting and achieving great performance. \n",
    "\n",
    "- We are using dropout to set random inputs to 0, this helps in preventing overfitting.\n",
    " \n",
    "- We then check the plots for loss and accuracy score and see if the model is overfitting."
   ]
  },
  {
   "cell_type": "code",
   "execution_count": 71,
   "metadata": {
    "id": "2lEORzEZaq3Q"
   },
   "outputs": [],
   "source": [
    "model_VGG_Mul = tf.keras.Sequential([\n",
    "    #VGG block 1\n",
    "    tf.keras.layers.Conv2D(32, (3, 3), activation='relu', padding='same', kernel_initializer='he_normal', input_shape=(27, 27, 3)),\n",
    "    tf.keras.layers.Conv2D(32, (3, 3), activation='relu', padding='same'),\n",
    "    tf.keras.layers.MaxPooling2D((2, 2)),\n",
    "    \n",
    "    #VGG block 2\n",
    "    tf.keras.layers.Conv2D(64, (3, 3), activation='relu', padding='same', kernel_initializer='he_normal'),\n",
    "    tf.keras.layers.Conv2D(64, (3, 3), activation='relu', padding='same'),\n",
    "    tf.keras.layers.MaxPooling2D((2, 2)),\n",
    "    \n",
    "    #VGG block 3\n",
    "    tf.keras.layers.Conv2D(128, (3, 3), activation='relu', padding='same', kernel_initializer='he_normal'),\n",
    "    tf.keras.layers.Conv2D(128, (3, 3), activation='relu', padding='same', kernel_initializer='he_normal'),\n",
    "    tf.keras.layers.MaxPooling2D((2, 2)),\n",
    "    \n",
    "    tf.keras.layers.Flatten(),\n",
    "    tf.keras.layers.Dense(128, activation='relu'),\n",
    "    tf.keras.layers.Dropout(.2),\n",
    "    tf.keras.layers.Dense(4),\n",
    "])"
   ]
  },
  {
   "cell_type": "markdown",
   "metadata": {
    "id": "C281InoYbOfK"
   },
   "source": [
    "We now choose `Adam()` optimizer with a laerning rate of 0.001 which works good with our non-linear activation function `Relu`. Finally, we fit the model and let it run for 50 epochs and check how our model performs. We then check the learning curve to see if our model has been overfitted."
   ]
  },
  {
   "cell_type": "code",
   "execution_count": 73,
   "metadata": {
    "id": "LUulS_Q3bTGN"
   },
   "outputs": [],
   "source": [
    "import tensorflow_addons as tfa\n",
    "opt = tf.keras.optimizers.Adam(lr=0.001)\n",
    "model_VGG_Mul.compile(optimizer=opt,\n",
    "              loss = tf.keras.losses.SparseCategoricalCrossentropy(from_logits=True),\n",
    "              metrics='sparse_categorical_accuracy')\n"
   ]
  },
  {
   "cell_type": "code",
   "execution_count": 74,
   "metadata": {
    "colab": {
     "base_uri": "https://localhost:8080/"
    },
    "id": "ux4TF1czbVnG",
    "outputId": "3660742f-673e-4663-99d5-014d8de162e9"
   },
   "outputs": [
    {
     "name": "stdout",
     "output_type": "stream",
     "text": [
      "Epoch 1/50\n",
      "210/210 [==============================] - 4s 15ms/step - loss: 1.0477 - sparse_categorical_accuracy: 0.5750 - val_loss: 0.8028 - val_sparse_categorical_accuracy: 0.6599\n",
      "Epoch 2/50\n",
      "210/210 [==============================] - 3s 12ms/step - loss: 0.7874 - sparse_categorical_accuracy: 0.6898 - val_loss: 0.8414 - val_sparse_categorical_accuracy: 0.6660\n",
      "Epoch 3/50\n",
      "210/210 [==============================] - 3s 12ms/step - loss: 0.7138 - sparse_categorical_accuracy: 0.7186 - val_loss: 0.8284 - val_sparse_categorical_accuracy: 0.6845\n",
      "Epoch 4/50\n",
      "210/210 [==============================] - 3s 12ms/step - loss: 0.6837 - sparse_categorical_accuracy: 0.7309 - val_loss: 0.8572 - val_sparse_categorical_accuracy: 0.6637\n",
      "Epoch 5/50\n",
      "210/210 [==============================] - 3s 13ms/step - loss: 0.6619 - sparse_categorical_accuracy: 0.7436 - val_loss: 0.7371 - val_sparse_categorical_accuracy: 0.7063\n",
      "Epoch 6/50\n",
      "210/210 [==============================] - 3s 12ms/step - loss: 0.5961 - sparse_categorical_accuracy: 0.7775 - val_loss: 0.8254 - val_sparse_categorical_accuracy: 0.6769\n",
      "Epoch 7/50\n",
      "210/210 [==============================] - 3s 12ms/step - loss: 0.5652 - sparse_categorical_accuracy: 0.7864 - val_loss: 0.8499 - val_sparse_categorical_accuracy: 0.7177\n",
      "Epoch 8/50\n",
      "210/210 [==============================] - 3s 12ms/step - loss: 0.5401 - sparse_categorical_accuracy: 0.7933 - val_loss: 0.7984 - val_sparse_categorical_accuracy: 0.6964\n",
      "Epoch 9/50\n",
      "210/210 [==============================] - 3s 13ms/step - loss: 0.4858 - sparse_categorical_accuracy: 0.8214 - val_loss: 1.0065 - val_sparse_categorical_accuracy: 0.6954\n",
      "Epoch 10/50\n",
      "210/210 [==============================] - 3s 13ms/step - loss: 0.4086 - sparse_categorical_accuracy: 0.8486 - val_loss: 0.9493 - val_sparse_categorical_accuracy: 0.6992\n",
      "Epoch 11/50\n",
      "210/210 [==============================] - 3s 13ms/step - loss: 0.3757 - sparse_categorical_accuracy: 0.8602 - val_loss: 0.9860 - val_sparse_categorical_accuracy: 0.6817\n",
      "Epoch 12/50\n",
      "210/210 [==============================] - 3s 12ms/step - loss: 0.3008 - sparse_categorical_accuracy: 0.8896 - val_loss: 1.0904 - val_sparse_categorical_accuracy: 0.6949\n",
      "Epoch 13/50\n",
      "210/210 [==============================] - 3s 13ms/step - loss: 0.2456 - sparse_categorical_accuracy: 0.9105 - val_loss: 1.0623 - val_sparse_categorical_accuracy: 0.7020\n",
      "Epoch 14/50\n",
      "210/210 [==============================] - 3s 12ms/step - loss: 0.2084 - sparse_categorical_accuracy: 0.9183 - val_loss: 1.4658 - val_sparse_categorical_accuracy: 0.6627\n",
      "Epoch 15/50\n",
      "210/210 [==============================] - 3s 12ms/step - loss: 0.1796 - sparse_categorical_accuracy: 0.9377 - val_loss: 1.6490 - val_sparse_categorical_accuracy: 0.6978\n",
      "Epoch 16/50\n",
      "210/210 [==============================] - 3s 12ms/step - loss: 0.1278 - sparse_categorical_accuracy: 0.9542 - val_loss: 2.0083 - val_sparse_categorical_accuracy: 0.6774\n",
      "Epoch 17/50\n",
      "210/210 [==============================] - 3s 13ms/step - loss: 0.1379 - sparse_categorical_accuracy: 0.9486 - val_loss: 1.5198 - val_sparse_categorical_accuracy: 0.6641\n",
      "Epoch 18/50\n",
      "210/210 [==============================] - 3s 13ms/step - loss: 0.1098 - sparse_categorical_accuracy: 0.9628 - val_loss: 1.6890 - val_sparse_categorical_accuracy: 0.6840\n",
      "Epoch 19/50\n",
      "210/210 [==============================] - 3s 13ms/step - loss: 0.0992 - sparse_categorical_accuracy: 0.9646 - val_loss: 1.7831 - val_sparse_categorical_accuracy: 0.6698\n",
      "Epoch 20/50\n",
      "210/210 [==============================] - 3s 13ms/step - loss: 0.1053 - sparse_categorical_accuracy: 0.9621 - val_loss: 1.7069 - val_sparse_categorical_accuracy: 0.6798\n",
      "Epoch 21/50\n",
      "210/210 [==============================] - 3s 12ms/step - loss: 0.0936 - sparse_categorical_accuracy: 0.9670 - val_loss: 1.9820 - val_sparse_categorical_accuracy: 0.6817\n",
      "Epoch 22/50\n",
      "210/210 [==============================] - 3s 13ms/step - loss: 0.0737 - sparse_categorical_accuracy: 0.9731 - val_loss: 2.2916 - val_sparse_categorical_accuracy: 0.6684\n",
      "Epoch 23/50\n",
      "210/210 [==============================] - 3s 12ms/step - loss: 0.0913 - sparse_categorical_accuracy: 0.9701 - val_loss: 2.2591 - val_sparse_categorical_accuracy: 0.6760\n",
      "Epoch 24/50\n",
      "210/210 [==============================] - 3s 12ms/step - loss: 0.0695 - sparse_categorical_accuracy: 0.9742 - val_loss: 2.1331 - val_sparse_categorical_accuracy: 0.6850\n",
      "Epoch 25/50\n",
      "210/210 [==============================] - 3s 12ms/step - loss: 0.0768 - sparse_categorical_accuracy: 0.9739 - val_loss: 2.2049 - val_sparse_categorical_accuracy: 0.6594\n",
      "Epoch 26/50\n",
      "210/210 [==============================] - 3s 13ms/step - loss: 0.0742 - sparse_categorical_accuracy: 0.9777 - val_loss: 2.0049 - val_sparse_categorical_accuracy: 0.6902\n",
      "Epoch 27/50\n",
      "210/210 [==============================] - 3s 12ms/step - loss: 0.0453 - sparse_categorical_accuracy: 0.9843 - val_loss: 2.6960 - val_sparse_categorical_accuracy: 0.6717\n",
      "Epoch 28/50\n",
      "210/210 [==============================] - 3s 13ms/step - loss: 0.0666 - sparse_categorical_accuracy: 0.9774 - val_loss: 2.0907 - val_sparse_categorical_accuracy: 0.6921\n",
      "Epoch 29/50\n",
      "210/210 [==============================] - 3s 13ms/step - loss: 0.0546 - sparse_categorical_accuracy: 0.9828 - val_loss: 2.4791 - val_sparse_categorical_accuracy: 0.6874\n",
      "Epoch 30/50\n",
      "210/210 [==============================] - 3s 13ms/step - loss: 0.0409 - sparse_categorical_accuracy: 0.9876 - val_loss: 2.6656 - val_sparse_categorical_accuracy: 0.6641\n",
      "Epoch 31/50\n",
      "210/210 [==============================] - 3s 12ms/step - loss: 0.0731 - sparse_categorical_accuracy: 0.9733 - val_loss: 2.3950 - val_sparse_categorical_accuracy: 0.6807\n",
      "Epoch 32/50\n",
      "210/210 [==============================] - 3s 13ms/step - loss: 0.0662 - sparse_categorical_accuracy: 0.9810 - val_loss: 2.0217 - val_sparse_categorical_accuracy: 0.6798\n",
      "Epoch 33/50\n",
      "210/210 [==============================] - 3s 12ms/step - loss: 0.0428 - sparse_categorical_accuracy: 0.9867 - val_loss: 2.3719 - val_sparse_categorical_accuracy: 0.6802\n",
      "Epoch 34/50\n",
      "210/210 [==============================] - 3s 12ms/step - loss: 0.0393 - sparse_categorical_accuracy: 0.9873 - val_loss: 2.9632 - val_sparse_categorical_accuracy: 0.6812\n",
      "Epoch 35/50\n",
      "210/210 [==============================] - 3s 13ms/step - loss: 0.0512 - sparse_categorical_accuracy: 0.9819 - val_loss: 2.8509 - val_sparse_categorical_accuracy: 0.6651\n",
      "Epoch 36/50\n",
      "210/210 [==============================] - 3s 13ms/step - loss: 0.0636 - sparse_categorical_accuracy: 0.9782 - val_loss: 2.5282 - val_sparse_categorical_accuracy: 0.6608\n",
      "Epoch 37/50\n",
      "210/210 [==============================] - 3s 12ms/step - loss: 0.0624 - sparse_categorical_accuracy: 0.9785 - val_loss: 2.6823 - val_sparse_categorical_accuracy: 0.6741\n",
      "Epoch 38/50\n",
      "210/210 [==============================] - 3s 13ms/step - loss: 0.0884 - sparse_categorical_accuracy: 0.9721 - val_loss: 1.9918 - val_sparse_categorical_accuracy: 0.6869\n",
      "Epoch 39/50\n",
      "210/210 [==============================] - 3s 12ms/step - loss: 0.0209 - sparse_categorical_accuracy: 0.9928 - val_loss: 2.6441 - val_sparse_categorical_accuracy: 0.6869\n",
      "Epoch 40/50\n",
      "210/210 [==============================] - 3s 13ms/step - loss: 0.0318 - sparse_categorical_accuracy: 0.9895 - val_loss: 2.7180 - val_sparse_categorical_accuracy: 0.6651\n",
      "Epoch 41/50\n",
      "210/210 [==============================] - 3s 13ms/step - loss: 0.0373 - sparse_categorical_accuracy: 0.9876 - val_loss: 2.8775 - val_sparse_categorical_accuracy: 0.6660\n",
      "Epoch 42/50\n",
      "210/210 [==============================] - 3s 13ms/step - loss: 0.0526 - sparse_categorical_accuracy: 0.9818 - val_loss: 3.2562 - val_sparse_categorical_accuracy: 0.6679\n",
      "Epoch 43/50\n",
      "210/210 [==============================] - 3s 13ms/step - loss: 0.0671 - sparse_categorical_accuracy: 0.9786 - val_loss: 2.8570 - val_sparse_categorical_accuracy: 0.6670\n",
      "Epoch 44/50\n",
      "210/210 [==============================] - 3s 12ms/step - loss: 0.0373 - sparse_categorical_accuracy: 0.9888 - val_loss: 2.9056 - val_sparse_categorical_accuracy: 0.6670\n",
      "Epoch 45/50\n",
      "210/210 [==============================] - 3s 13ms/step - loss: 0.0438 - sparse_categorical_accuracy: 0.9858 - val_loss: 2.6837 - val_sparse_categorical_accuracy: 0.6665\n",
      "Epoch 46/50\n",
      "210/210 [==============================] - 3s 12ms/step - loss: 0.0120 - sparse_categorical_accuracy: 0.9957 - val_loss: 3.0058 - val_sparse_categorical_accuracy: 0.7054\n",
      "Epoch 47/50\n",
      "210/210 [==============================] - 3s 12ms/step - loss: 0.0366 - sparse_categorical_accuracy: 0.9889 - val_loss: 3.0394 - val_sparse_categorical_accuracy: 0.6670\n",
      "Epoch 48/50\n",
      "210/210 [==============================] - 3s 12ms/step - loss: 0.0786 - sparse_categorical_accuracy: 0.9760 - val_loss: 2.4074 - val_sparse_categorical_accuracy: 0.6888\n",
      "Epoch 49/50\n",
      "210/210 [==============================] - 3s 13ms/step - loss: 0.0287 - sparse_categorical_accuracy: 0.9904 - val_loss: 2.6629 - val_sparse_categorical_accuracy: 0.6911\n",
      "Epoch 50/50\n",
      "210/210 [==============================] - 3s 13ms/step - loss: 0.0467 - sparse_categorical_accuracy: 0.9848 - val_loss: 2.8193 - val_sparse_categorical_accuracy: 0.6836\n"
     ]
    }
   ],
   "source": [
    "history_multiclass = model_VGG_Mul.fit_generator(train_generator, validation_data = validation_generator, epochs=50, verbose=1)"
   ]
  },
  {
   "cell_type": "code",
   "execution_count": 75,
   "metadata": {
    "colab": {
     "base_uri": "https://localhost:8080/",
     "height": 338
    },
    "id": "RFE9C1wjbZhS",
    "outputId": "d7fd6ecd-dbdb-44f0-dd9d-77e6441b07b7"
   },
   "outputs": [
    {
     "data": {
      "image/png": "[encoded data removed]",
      "text/plain": [
       "<Figure size 720x360 with 2 Axes>"
      ]
     },
     "metadata": {
      "needs_background": "light",
      "tags": []
     },
     "output_type": "display_data"
    }
   ],
   "source": [
    "plot_learning_curve(history_multiclass.history['loss'], history_multiclass.history['val_loss'], \n",
    "                    history_multiclass.history['sparse_categorical_accuracy'], history_multiclass.history['val_sparse_categorical_accuracy'], \n",
    "                    metric_name='sparseCatogoricalAccuracy')"
   ]
  },
  {
   "cell_type": "markdown",
   "metadata": {
    "id": "vr76cgXLcpwa"
   },
   "source": [
    "From the plots obtained above we can see that our model has been overfitted to a great extent. This needs to be handled using various techniques such as regularization, data augmentation and so on. "
   ]
  },
  {
   "cell_type": "markdown",
   "metadata": {
    "id": "sscxeS5xcxEv"
   },
   "source": [
    "## **Incremental Changes and Hyperparameter Tuning** <a class=\"anchor\" id=\"7.3\"></a>\n",
    "\n",
    "There are various incremental changes that can be performed in order to increase the performance of any CNN models. Some of those include using regularizations, batch normalizations, Data Augmentations, Dropout layers etc. \n",
    "\n",
    "For this particular model we have made following changes in order to know the perfect hyperparameters that reduce overfitting and increase the performance of the model. \n",
    "\n",
    "In the below chunk we are using the data augmentations by rotating the images, changing the width range, height range and the brightness ranges. These have been tested with various parameters to find the perfect ones for the model. Random state has been defined in order to have the same images everytime the kernel re-initializes.  \n"
   ]
  },
  {
   "cell_type": "code",
   "execution_count": 83,
   "metadata": {
    "colab": {
     "base_uri": "https://localhost:8080/"
    },
    "id": "qUi-ZXzmgvbc",
    "outputId": "58172d50-18cc-4116-8ba4-fbc47e42ae72"
   },
   "outputs": [
    {
     "name": "stdout",
     "output_type": "stream",
     "text": [
      "Found 6696 validated image filenames belonging to 4 classes.\n",
      "Found 2111 validated image filenames belonging to 4 classes.\n",
      "Found 1089 validated image filenames belonging to 4 classes.\n"
     ]
    }
   ],
   "source": [
    "from tensorflow.keras.preprocessing.image import ImageDataGenerator\n",
    "\n",
    "train_datagen = ImageDataGenerator(rescale=1./255, data_format='channels_last',\n",
    "                                   rotation_range=15, width_shift_range=0.2,\n",
    "                                   height_shift_range=0.2, brightness_range=[0.5,1.5])\n",
    "val_datagen = ImageDataGenerator(rescale=1./255, data_format='channels_last')\n",
    "test_datagen = ImageDataGenerator(rescale=1./255, data_format='channels_last')\n",
    "\n",
    "batch_size = 32\n",
    "\n",
    "train_generator = train_datagen.flow_from_dataframe(\n",
    "        dataframe=Mul_TrainData,\n",
    "        directory='./',\n",
    "        x_col=\"ImageName\",\n",
    "        y_col=\"cellType\",\n",
    "        target_size=(27, 27),\n",
    "        random_state = 99,\n",
    "        batch_size=batch_size,\n",
    "        class_mode='sparse')\n",
    "\n",
    "validation_generator = val_datagen.flow_from_dataframe(\n",
    "        dataframe=Mul_ValData,\n",
    "        directory='./',\n",
    "        x_col=\"ImageName\",\n",
    "        y_col=\"cellType\",\n",
    "        target_size=(27, 27),\n",
    "        random_state = 99,\n",
    "        batch_size=batch_size,\n",
    "        class_mode='sparse')\n",
    "\n",
    "Testing_generator = test_datagen.flow_from_dataframe(\n",
    "        dataframe=Mul_TestingData,\n",
    "        directory='./',\n",
    "        x_col=\"ImageName\",\n",
    "        y_col=\"cellType\",\n",
    "        target_size=(27,27),\n",
    "        random_state = 99,\n",
    "        batch_size=batch_size,\n",
    "        class_mode='sparse')"
   ]
  },
  {
   "cell_type": "markdown",
   "metadata": {
    "id": "trbTiWfwhRAI"
   },
   "source": [
    "In the below chunk we have implemented the VGG model for multiclass, we have defined following parameters:\n",
    "- regularizations as 0.01 \n",
    "- Dropout 0.2\n",
    "- Padding = same (This is done to retain similar image sizes)\n"
   ]
  },
  {
   "cell_type": "code",
   "execution_count": 84,
   "metadata": {
    "id": "wYF5YwwchNXy"
   },
   "outputs": [],
   "source": [
    "reg_lambda = 0.01\n",
    "\n",
    "model_VGG_Mul_Final = tf.keras.Sequential([\n",
    "    #VGG block 1\n",
    "    tf.keras.layers.Conv2D(32, (3, 3), activation='relu', padding='same', kernel_initializer='he_normal', \n",
    "                           kernel_regularizer=tf.keras.regularizers.l2(reg_lambda), input_shape=(27, 27, 3)),\n",
    "    tf.keras.layers.Conv2D(32, (3, 3), activation='relu', padding='same', \n",
    "                           kernel_regularizer=tf.keras.regularizers.l2(reg_lambda)),\n",
    "    tf.keras.layers.MaxPooling2D((2, 2)),\n",
    "    \n",
    "    #VGG block 2\n",
    "    tf.keras.layers.Conv2D(64, (3, 3), activation='relu', padding='same', kernel_initializer='he_normal',\n",
    "                           kernel_regularizer=tf.keras.regularizers.l2(reg_lambda)),\n",
    "    tf.keras.layers.Conv2D(64, (3, 3), activation='relu', padding='same', \n",
    "                           kernel_regularizer=tf.keras.regularizers.l2(reg_lambda)),\n",
    "    tf.keras.layers.MaxPooling2D((2, 2)),\n",
    "    \n",
    "    # #VGG block 3\n",
    "    # tf.keras.layers.Conv2D(128, (3, 3), activation='relu', padding='same', kernel_initializer='he_normal',\n",
    "    #                        kernel_regularizer=tf.keras.regularizers.l2(reg_lambda)),\n",
    "    # tf.keras.layers.Conv2D(128, (3, 3), activation='relu', padding='same', kernel_initializer='he_normal',\n",
    "    #                        kernel_regularizer=tf.keras.regularizers.l2(reg_lambda)),\n",
    "    # tf.keras.layers.MaxPooling2D((2, 2)),\n",
    "    \n",
    "    tf.keras.layers.Flatten(),\n",
    "    tf.keras.layers.Dense(128, activation='relu'),\n",
    "    tf.keras.layers.Dropout(.2),\n",
    "    tf.keras.layers.Dense(4),\n",
    "])"
   ]
  },
  {
   "cell_type": "markdown",
   "metadata": {
    "id": "_j3LtmZ_h1EI"
   },
   "source": [
    "A learning rate of 0.001 has been specifies, this restricts the learning of the algorithm to be too shallow or too deep. Since our features are deep we are using high learning rate. "
   ]
  },
  {
   "cell_type": "code",
   "execution_count": 85,
   "metadata": {
    "id": "ko8tQjvshpuP"
   },
   "outputs": [],
   "source": [
    "opt = tf.keras.optimizers.Adam(lr=0.001)\n",
    "model_VGG_Mul_Final.compile(optimizer=opt,\n",
    "              loss = tf.keras.losses.SparseCategoricalCrossentropy(from_logits=True),\n",
    "              metrics='sparse_categorical_accuracy')"
   ]
  },
  {
   "cell_type": "code",
   "execution_count": 87,
   "metadata": {
    "colab": {
     "base_uri": "https://localhost:8080/"
    },
    "id": "1-fhL741iLCv",
    "outputId": "11e14044-0379-4d8a-a2ef-d5a25f7561a2"
   },
   "outputs": [
    {
     "name": "stdout",
     "output_type": "stream",
     "text": [
      "Epoch 1/50\n",
      "210/210 [==============================] - 7s 30ms/step - loss: 2.4045 - sparse_categorical_accuracy: 0.5252 - val_loss: 1.5891 - val_sparse_categorical_accuracy: 0.6097\n",
      "Epoch 2/50\n",
      "210/210 [==============================] - 6s 29ms/step - loss: 1.4681 - sparse_categorical_accuracy: 0.6441 - val_loss: 1.2898 - val_sparse_categorical_accuracy: 0.6518\n",
      "Epoch 3/50\n",
      "210/210 [==============================] - 6s 30ms/step - loss: 1.2462 - sparse_categorical_accuracy: 0.6700 - val_loss: 1.1864 - val_sparse_categorical_accuracy: 0.6480\n",
      "Epoch 4/50\n",
      "210/210 [==============================] - 6s 30ms/step - loss: 1.1713 - sparse_categorical_accuracy: 0.6744 - val_loss: 1.1531 - val_sparse_categorical_accuracy: 0.6480\n",
      "Epoch 5/50\n",
      "210/210 [==============================] - 6s 30ms/step - loss: 1.1294 - sparse_categorical_accuracy: 0.6841 - val_loss: 1.1179 - val_sparse_categorical_accuracy: 0.6594\n",
      "Epoch 6/50\n",
      "210/210 [==============================] - 6s 30ms/step - loss: 1.0805 - sparse_categorical_accuracy: 0.6938 - val_loss: 1.0750 - val_sparse_categorical_accuracy: 0.6727\n",
      "Epoch 7/50\n",
      "210/210 [==============================] - 6s 30ms/step - loss: 1.0725 - sparse_categorical_accuracy: 0.6859 - val_loss: 1.1661 - val_sparse_categorical_accuracy: 0.6286\n",
      "Epoch 8/50\n",
      "210/210 [==============================] - 6s 29ms/step - loss: 1.0621 - sparse_categorical_accuracy: 0.6843 - val_loss: 1.0267 - val_sparse_categorical_accuracy: 0.6949\n",
      "Epoch 9/50\n",
      "210/210 [==============================] - 6s 30ms/step - loss: 1.0138 - sparse_categorical_accuracy: 0.7000 - val_loss: 1.2029 - val_sparse_categorical_accuracy: 0.6002\n",
      "Epoch 10/50\n",
      "210/210 [==============================] - 6s 29ms/step - loss: 1.0089 - sparse_categorical_accuracy: 0.6982 - val_loss: 1.0050 - val_sparse_categorical_accuracy: 0.6793\n",
      "Epoch 11/50\n",
      "210/210 [==============================] - 6s 30ms/step - loss: 0.9869 - sparse_categorical_accuracy: 0.7086 - val_loss: 1.0021 - val_sparse_categorical_accuracy: 0.6736\n",
      "Epoch 12/50\n",
      "210/210 [==============================] - 6s 30ms/step - loss: 0.9559 - sparse_categorical_accuracy: 0.7133 - val_loss: 1.0217 - val_sparse_categorical_accuracy: 0.6660\n",
      "Epoch 13/50\n",
      "210/210 [==============================] - 6s 30ms/step - loss: 0.9647 - sparse_categorical_accuracy: 0.7110 - val_loss: 1.0932 - val_sparse_categorical_accuracy: 0.6604\n",
      "Epoch 14/50\n",
      "210/210 [==============================] - 6s 30ms/step - loss: 0.9368 - sparse_categorical_accuracy: 0.7128 - val_loss: 0.9739 - val_sparse_categorical_accuracy: 0.6883\n",
      "Epoch 15/50\n",
      "210/210 [==============================] - 6s 29ms/step - loss: 0.9155 - sparse_categorical_accuracy: 0.7146 - val_loss: 0.9592 - val_sparse_categorical_accuracy: 0.6798\n",
      "Epoch 16/50\n",
      "210/210 [==============================] - 6s 29ms/step - loss: 0.9184 - sparse_categorical_accuracy: 0.7170 - val_loss: 0.9301 - val_sparse_categorical_accuracy: 0.6987\n",
      "Epoch 17/50\n",
      "210/210 [==============================] - 6s 29ms/step - loss: 0.9337 - sparse_categorical_accuracy: 0.7064 - val_loss: 0.9367 - val_sparse_categorical_accuracy: 0.6874\n",
      "Epoch 18/50\n",
      "210/210 [==============================] - 6s 29ms/step - loss: 0.9136 - sparse_categorical_accuracy: 0.7127 - val_loss: 0.9333 - val_sparse_categorical_accuracy: 0.6954\n",
      "Epoch 19/50\n",
      "210/210 [==============================] - 6s 30ms/step - loss: 0.9007 - sparse_categorical_accuracy: 0.7179 - val_loss: 0.9116 - val_sparse_categorical_accuracy: 0.7006\n",
      "Epoch 20/50\n",
      "210/210 [==============================] - 6s 29ms/step - loss: 0.8881 - sparse_categorical_accuracy: 0.7215 - val_loss: 0.9160 - val_sparse_categorical_accuracy: 0.7025\n",
      "Epoch 21/50\n",
      "210/210 [==============================] - 6s 30ms/step - loss: 0.8939 - sparse_categorical_accuracy: 0.7122 - val_loss: 0.9658 - val_sparse_categorical_accuracy: 0.6599\n",
      "Epoch 22/50\n",
      "210/210 [==============================] - 6s 30ms/step - loss: 0.8803 - sparse_categorical_accuracy: 0.7200 - val_loss: 0.9017 - val_sparse_categorical_accuracy: 0.6878\n",
      "Epoch 23/50\n",
      "210/210 [==============================] - 6s 30ms/step - loss: 0.8714 - sparse_categorical_accuracy: 0.7197 - val_loss: 0.9141 - val_sparse_categorical_accuracy: 0.6855\n",
      "Epoch 24/50\n",
      "210/210 [==============================] - 6s 30ms/step - loss: 0.8586 - sparse_categorical_accuracy: 0.7243 - val_loss: 0.8847 - val_sparse_categorical_accuracy: 0.7001\n",
      "Epoch 25/50\n",
      "210/210 [==============================] - 6s 30ms/step - loss: 0.8559 - sparse_categorical_accuracy: 0.7252 - val_loss: 0.9276 - val_sparse_categorical_accuracy: 0.6798\n",
      "Epoch 26/50\n",
      "210/210 [==============================] - 6s 29ms/step - loss: 0.8508 - sparse_categorical_accuracy: 0.7183 - val_loss: 0.9450 - val_sparse_categorical_accuracy: 0.6802\n",
      "Epoch 27/50\n",
      "210/210 [==============================] - 6s 29ms/step - loss: 0.8531 - sparse_categorical_accuracy: 0.7198 - val_loss: 0.9767 - val_sparse_categorical_accuracy: 0.6604\n",
      "Epoch 28/50\n",
      "210/210 [==============================] - 6s 30ms/step - loss: 0.8542 - sparse_categorical_accuracy: 0.7233 - val_loss: 0.8713 - val_sparse_categorical_accuracy: 0.6987\n",
      "Epoch 29/50\n",
      "210/210 [==============================] - 6s 30ms/step - loss: 0.8484 - sparse_categorical_accuracy: 0.7183 - val_loss: 0.8855 - val_sparse_categorical_accuracy: 0.7001\n",
      "Epoch 30/50\n",
      "210/210 [==============================] - 6s 30ms/step - loss: 0.8395 - sparse_categorical_accuracy: 0.7182 - val_loss: 0.8491 - val_sparse_categorical_accuracy: 0.6945\n",
      "Epoch 31/50\n",
      "210/210 [==============================] - 6s 30ms/step - loss: 0.8214 - sparse_categorical_accuracy: 0.7260 - val_loss: 0.8688 - val_sparse_categorical_accuracy: 0.7077\n",
      "Epoch 32/50\n",
      "210/210 [==============================] - 6s 30ms/step - loss: 0.8329 - sparse_categorical_accuracy: 0.7188 - val_loss: 0.8722 - val_sparse_categorical_accuracy: 0.6911\n",
      "Epoch 33/50\n",
      "210/210 [==============================] - 6s 30ms/step - loss: 0.8290 - sparse_categorical_accuracy: 0.7243 - val_loss: 0.8933 - val_sparse_categorical_accuracy: 0.6817\n",
      "Epoch 34/50\n",
      "210/210 [==============================] - 6s 30ms/step - loss: 0.8320 - sparse_categorical_accuracy: 0.7248 - val_loss: 0.8417 - val_sparse_categorical_accuracy: 0.7091\n",
      "Epoch 35/50\n",
      "210/210 [==============================] - 6s 30ms/step - loss: 0.8122 - sparse_categorical_accuracy: 0.7313 - val_loss: 0.8444 - val_sparse_categorical_accuracy: 0.6978\n",
      "Epoch 36/50\n",
      "210/210 [==============================] - 6s 30ms/step - loss: 0.8186 - sparse_categorical_accuracy: 0.7283 - val_loss: 0.8403 - val_sparse_categorical_accuracy: 0.7025\n",
      "Epoch 37/50\n",
      "210/210 [==============================] - 6s 30ms/step - loss: 0.8121 - sparse_categorical_accuracy: 0.7248 - val_loss: 0.8403 - val_sparse_categorical_accuracy: 0.7030\n",
      "Epoch 38/50\n",
      "210/210 [==============================] - 6s 30ms/step - loss: 0.8076 - sparse_categorical_accuracy: 0.7260 - val_loss: 0.8236 - val_sparse_categorical_accuracy: 0.7020\n",
      "Epoch 39/50\n",
      "210/210 [==============================] - 6s 30ms/step - loss: 0.7962 - sparse_categorical_accuracy: 0.7325 - val_loss: 0.8696 - val_sparse_categorical_accuracy: 0.7030\n",
      "Epoch 40/50\n",
      "210/210 [==============================] - 6s 30ms/step - loss: 0.8196 - sparse_categorical_accuracy: 0.7242 - val_loss: 0.8668 - val_sparse_categorical_accuracy: 0.6945\n",
      "Epoch 41/50\n",
      "210/210 [==============================] - 6s 30ms/step - loss: 0.8062 - sparse_categorical_accuracy: 0.7269 - val_loss: 0.8229 - val_sparse_categorical_accuracy: 0.7025\n",
      "Epoch 42/50\n",
      "210/210 [==============================] - 6s 30ms/step - loss: 0.7892 - sparse_categorical_accuracy: 0.7384 - val_loss: 0.8491 - val_sparse_categorical_accuracy: 0.6978\n",
      "Epoch 43/50\n",
      "210/210 [==============================] - 6s 30ms/step - loss: 0.7959 - sparse_categorical_accuracy: 0.7270 - val_loss: 0.8706 - val_sparse_categorical_accuracy: 0.6902\n",
      "Epoch 44/50\n",
      "210/210 [==============================] - 6s 30ms/step - loss: 0.7898 - sparse_categorical_accuracy: 0.7389 - val_loss: 0.8424 - val_sparse_categorical_accuracy: 0.7035\n",
      "Epoch 45/50\n",
      "210/210 [==============================] - 6s 30ms/step - loss: 0.8009 - sparse_categorical_accuracy: 0.7337 - val_loss: 0.8250 - val_sparse_categorical_accuracy: 0.6987\n",
      "Epoch 46/50\n",
      "210/210 [==============================] - 6s 30ms/step - loss: 0.7837 - sparse_categorical_accuracy: 0.7336 - val_loss: 0.8218 - val_sparse_categorical_accuracy: 0.7058\n",
      "Epoch 47/50\n",
      "210/210 [==============================] - 6s 30ms/step - loss: 0.7702 - sparse_categorical_accuracy: 0.7424 - val_loss: 0.8729 - val_sparse_categorical_accuracy: 0.6940\n",
      "Epoch 48/50\n",
      "210/210 [==============================] - 6s 30ms/step - loss: 0.7819 - sparse_categorical_accuracy: 0.7331 - val_loss: 0.8607 - val_sparse_categorical_accuracy: 0.6874\n",
      "Epoch 49/50\n",
      "210/210 [==============================] - 6s 30ms/step - loss: 0.7801 - sparse_categorical_accuracy: 0.7340 - val_loss: 0.8234 - val_sparse_categorical_accuracy: 0.6992\n",
      "Epoch 50/50\n",
      "210/210 [==============================] - 6s 30ms/step - loss: 0.7768 - sparse_categorical_accuracy: 0.7385 - val_loss: 0.8398 - val_sparse_categorical_accuracy: 0.7011\n"
     ]
    }
   ],
   "source": [
    "history_multiclass = model_VGG_Mul_Final.fit_generator(train_generator, validation_data = validation_generator, epochs=50, verbose=1)"
   ]
  },
  {
   "cell_type": "code",
   "execution_count": 89,
   "metadata": {
    "colab": {
     "base_uri": "https://localhost:8080/",
     "height": 338
    },
    "id": "D0ohmgWOiYhh",
    "outputId": "a5773999-ed43-447a-b29e-8c99a9141929"
   },
   "outputs": [
    {
     "data": {
      "image/png": "[encoded data removed]",
      "text/plain": [
       "<Figure size 720x360 with 2 Axes>"
      ]
     },
     "metadata": {
      "needs_background": "light",
      "tags": []
     },
     "output_type": "display_data"
    }
   ],
   "source": [
    "plot_learning_curve(history_multiclass.history['loss'], history_multiclass.history['val_loss'], \n",
    "                    history_multiclass.history['sparse_categorical_accuracy'], history_multiclass.history['val_sparse_categorical_accuracy'], \n",
    "                    metric_name='sparseCatogoricalAccuracy')"
   ]
  },
  {
   "cell_type": "markdown",
   "metadata": {
    "id": "Mv8vujX3iaZV"
   },
   "source": [
    "## **Performance Evaluation** <a class=\"anchor\" id=\"7.4\"></a>\n",
    "\n",
    "The evaluation of the algorithm is done using sparse accuracy metrics and `sparseCategoricalCrossEntropy`. Since there exists a class imbalance, F1 score can be used to evaluate the algorithm. \n",
    "Categorical cross entropy is used since the model is used to classify 4 classes of outputs. \n",
    "\n",
    "- In the below graph 50 epocs were used to validate the model.\n",
    "- The loss function categorical cross entropy can be seen decreasing, hence, we can say that the model is learning. \n",
    "- There are some oscillations, but that can be handled with more data. "
   ]
  },
  {
   "cell_type": "code",
   "execution_count": 91,
   "metadata": {
    "colab": {
     "base_uri": "https://localhost:8080/",
     "height": 338
    },
    "id": "I0oVeUVVmcy9",
    "outputId": "7daf2f87-0f2f-4e38-8a85-1992663e793c"
   },
   "outputs": [
    {
     "data": {
      "image/png": "[encoded data removed]",
      "text/plain": [
       "<Figure size 720x360 with 2 Axes>"
      ]
     },
     "metadata": {
      "needs_background": "light",
      "tags": []
     },
     "output_type": "display_data"
    }
   ],
   "source": [
    "plot_learning_curve(history_multiclass.history['loss'], history_multiclass.history['val_loss'], \n",
    "                    history_multiclass.history['sparse_categorical_accuracy'], history_multiclass.history['val_sparse_categorical_accuracy'], \n",
    "                    metric_name='sparseCatogoricalAccuracy')"
   ]
  },
  {
   "cell_type": "code",
   "execution_count": 92,
   "metadata": {
    "id": "smoa5Jcm_V1E"
   },
   "outputs": [],
   "source": [
    "y_hat_all = list()\n",
    "y_all = list()\n",
    "filenames = validation_generator.filenames\n",
    "N_images = len(filenames)\n",
    "batches = 0"
   ]
  },
  {
   "cell_type": "code",
   "execution_count": 93,
   "metadata": {
    "id": "cZKq_hCm_VtZ"
   },
   "outputs": [],
   "source": [
    "# iterate through the data generator and predict for each batch\n",
    "# hold the predictions and labels\n",
    "for x,y in validation_generator:\n",
    "        y_hat = model_VGG_Mul_Final.predict(x, verbose=0)\n",
    "        y_hat = np.argmax(y_hat, axis = 1)\n",
    "        #y = np.argmax(y, axis = 1)\n",
    "        y_hat_all = y_hat_all + y_hat.tolist()\n",
    "        y_all = y_all + y.tolist()\n",
    "\n",
    "        batches += 1\n",
    "        if batches >= N_images / batch_size:\n",
    "            # we need to break the loop by hand because\n",
    "            # the generator loops indefinitely\n",
    "            break"
   ]
  },
  {
   "cell_type": "code",
   "execution_count": 94,
   "metadata": {
    "colab": {
     "base_uri": "https://localhost:8080/"
    },
    "id": "67ty5IFK_bhs",
    "outputId": "462e8949-015c-4df9-be39-2eeafbcd6d3a"
   },
   "outputs": [
    {
     "data": {
      "text/plain": [
       "0.6015462180599839"
      ]
     },
     "execution_count": 94,
     "metadata": {
      "tags": []
     },
     "output_type": "execute_result"
    }
   ],
   "source": [
    "from sklearn.metrics import classification_report\n",
    "from sklearn.metrics import confusion_matrix, accuracy_score, f1_score\n",
    "f1_score(y_all, y_hat_all, average='macro')"
   ]
  },
  {
   "cell_type": "code",
   "execution_count": 95,
   "metadata": {
    "colab": {
     "base_uri": "https://localhost:8080/"
    },
    "id": "upn4dff3_bfH",
    "outputId": "3a60b38f-bc20-4c03-ea08-ed39143b8dca"
   },
   "outputs": [
    {
     "name": "stdout",
     "output_type": "stream",
     "text": [
      "              precision    recall  f1-score   support\n",
      "\n",
      "           0       0.58      0.51      0.54       372\n",
      "           1       0.57      0.70      0.63       391\n",
      "           2       0.79      0.94      0.86       980\n",
      "           3       0.68      0.26      0.38       368\n",
      "\n",
      "    accuracy                           0.70      2111\n",
      "   macro avg       0.65      0.60      0.60      2111\n",
      "weighted avg       0.69      0.70      0.68      2111\n",
      "\n"
     ]
    }
   ],
   "source": [
    "target = ['0','1','2','3']\n",
    "print(classification_report(y_all,y_hat_all,target_names=target))"
   ]
  },
  {
   "cell_type": "markdown",
   "metadata": {
    "id": "IIa9Pvxbme_L"
   },
   "source": [
    "## **Predictions** <a class=\"anchor\" id=\"7.5\"></a>\n",
    "\n",
    "In this chunck we will be predicting the model performance on unseen data. This is implemented as the same process as we did in section 6. "
   ]
  },
  {
   "cell_type": "code",
   "execution_count": 96,
   "metadata": {
    "id": "92HgRTG7m1Rj"
   },
   "outputs": [],
   "source": [
    "y_hat_all = list()\n",
    "y_all = list()\n",
    "filenames = Testing_generator.filenames\n",
    "N_images = len(filenames)\n",
    "batches = 0"
   ]
  },
  {
   "cell_type": "code",
   "execution_count": 98,
   "metadata": {
    "id": "NFgKLwB3m4sm"
   },
   "outputs": [],
   "source": [
    "# iterate through the data generator and predict for each batch\n",
    "# hold the predictions and labels\n",
    "for x,y in Testing_generator:\n",
    "        y_hat = model_VGG_Mul_Final.predict(x, verbose=0)\n",
    "        y_hat = np.argmax(y_hat, axis = 1)\n",
    "        y_hat_all = y_hat_all + y_hat.tolist()\n",
    "        y_all = y_all + y.tolist()\n",
    "\n",
    "        batches += 1\n",
    "        if batches >= N_images / batch_size:\n",
    "            # we need to break the loop by hand because\n",
    "            # the generator loops indefinitely\n",
    "            break"
   ]
  },
  {
   "cell_type": "code",
   "execution_count": 99,
   "metadata": {
    "colab": {
     "base_uri": "https://localhost:8080/"
    },
    "id": "5p44swtam6CM",
    "outputId": "6111b96f-1c65-41b4-95a8-de821cf4e9c0"
   },
   "outputs": [
    {
     "data": {
      "text/plain": [
       "0.6079581571074542"
      ]
     },
     "execution_count": 99,
     "metadata": {
      "tags": []
     },
     "output_type": "execute_result"
    }
   ],
   "source": [
    "from sklearn.metrics import classification_report\n",
    "from sklearn.metrics import confusion_matrix, accuracy_score, f1_score\n",
    "f1_score(y_all, y_hat_all, average='macro')\n"
   ]
  },
  {
   "cell_type": "markdown",
   "metadata": {
    "id": "Om7fRwQSnImE"
   },
   "source": [
    "An F1 score of 0.60 that is 60% can be observed on unseen data. "
   ]
  },
  {
   "cell_type": "markdown",
   "metadata": {
    "id": "OvGHAmyF7DPD"
   },
   "source": [
    "# **Transfer Learning on Unlabelled Data** <a class=\"anchor\" id=\"8\"></a>\n",
    "\n",
    "\n",
    "At this point in this project we have developed 2 models, one for binary classification on the `isCancerous` information and the other for `cellType` classification. \n",
    "We know that the `cellType` model only works on 60 patients as the class labels of the remaining patients are not available.\n",
    "\n",
    "Hence we aim to perform transfer learning from a learn't model on the unlabelled data. \n",
    "This can be done using the following steps: \n",
    "- We know that the CNN model for `isCancerous` classification has been trained on all 98 patients, however, it has classfied only the binary values. \n",
    "- So, going ahead we will use the weights this model has learn't and change the MLP layers in order to use it to be trained on the cellType information. \n",
    "- To do so we will freeze the weights and change the trainable parameters to non-trainable. \n",
    "- Then we will add the MLP layers to the already learn't model and observe it performance on the `cellType` class. \n",
    "- We will compare this model with our previous model and check the performances if it is improving. "
   ]
  },
  {
   "cell_type": "code",
   "execution_count": 101,
   "metadata": {
    "colab": {
     "base_uri": "https://localhost:8080/"
    },
    "id": "0Ce0za7Apfud",
    "outputId": "9dd3eb0b-e4ab-47d8-8fe2-37c570253a18"
   },
   "outputs": [
    {
     "name": "stdout",
     "output_type": "stream",
     "text": [
      "Model: \"sequential_3\"\n",
      "_________________________________________________________________\n",
      "Layer (type)                 Output Shape              Param #   \n",
      "=================================================================\n",
      "conv2d_16 (Conv2D)           (None, 27, 27, 32)        896       \n",
      "_________________________________________________________________\n",
      "conv2d_17 (Conv2D)           (None, 27, 27, 32)        9248      \n",
      "_________________________________________________________________\n",
      "max_pooling2d_8 (MaxPooling2 (None, 13, 13, 32)        0         \n",
      "_________________________________________________________________\n",
      "conv2d_18 (Conv2D)           (None, 13, 13, 64)        18496     \n",
      "_________________________________________________________________\n",
      "conv2d_19 (Conv2D)           (None, 13, 13, 64)        36928     \n",
      "_________________________________________________________________\n",
      "max_pooling2d_9 (MaxPooling2 (None, 6, 6, 64)          0         \n",
      "_________________________________________________________________\n",
      "conv2d_20 (Conv2D)           (None, 6, 6, 128)         73856     \n",
      "_________________________________________________________________\n",
      "conv2d_21 (Conv2D)           (None, 6, 6, 128)         147584    \n",
      "_________________________________________________________________\n",
      "max_pooling2d_10 (MaxPooling (None, 3, 3, 128)         0         \n",
      "_________________________________________________________________\n",
      "flatten_3 (Flatten)          (None, 1152)              0         \n",
      "_________________________________________________________________\n",
      "dense_7 (Dense)              (None, 128)               147584    \n",
      "_________________________________________________________________\n",
      "dropout_2 (Dropout)          (None, 128)               0         \n",
      "_________________________________________________________________\n",
      "dense_8 (Dense)              (None, 2)                 258       \n",
      "=================================================================\n",
      "Total params: 434,850\n",
      "Trainable params: 434,850\n",
      "Non-trainable params: 0\n",
      "_________________________________________________________________\n"
     ]
    }
   ],
   "source": [
    "# Cloning the model and all the parameters for transfer learning. \n",
    "model_TL = tf.keras.models.clone_model(Final_Binary, input_tensors=None, clone_function=None)\n",
    "model_TL.summary(\n",
    "    \n",
    ")"
   ]
  },
  {
   "cell_type": "code",
   "execution_count": 103,
   "metadata": {
    "id": "rG46hHDYBy5L"
   },
   "outputs": [],
   "source": [
    "model_TL.pop()"
   ]
  },
  {
   "cell_type": "code",
   "execution_count": 104,
   "metadata": {
    "id": "QGYhxUzOBy1x"
   },
   "outputs": [],
   "source": [
    "model_TL.add(tf.keras.layers.Dense(4))"
   ]
  },
  {
   "cell_type": "markdown",
   "metadata": {
    "id": "rxMeZzCZttW4"
   },
   "source": [
    "## Importing and splitting data for multiclass"
   ]
  },
  {
   "cell_type": "code",
   "execution_count": 111,
   "metadata": {
    "id": "jcKx9NlTtsGr"
   },
   "outputs": [],
   "source": [
    "data = pd.read_csv(\"./data_labels_mainData.csv\")\n",
    "MulticlassList = []\n",
    "\n",
    "for i in range(1,61):\n",
    "  MulticlassList.append(i)"
   ]
  },
  {
   "cell_type": "code",
   "execution_count": 112,
   "metadata": {
    "colab": {
     "base_uri": "https://localhost:8080/"
    },
    "id": "a0xiV1B-t4AN",
    "outputId": "9c81fc8f-f26c-4733-9e3d-361feb45b2b2"
   },
   "outputs": [
    {
     "name": "stdout",
     "output_type": "stream",
     "text": [
      "TrainData shape:  (6696, 6)\n",
      "ValData shape:  (2111, 6)\n",
      "TestData shape:  (1089, 6)\n"
     ]
    }
   ],
   "source": [
    "from sklearn.model_selection import train_test_split\n",
    "trainmul,testtemp =  train_test_split(MulticlassList, test_size=0.3, random_state=99)\n",
    "valmul,testingmul = train_test_split(testtemp, test_size=0.33, random_state=99)\n",
    "Mul_TrainData = data[data['patientID'].isin(trainmul)]\n",
    "Mul_ValData = data[data['patientID'].isin(valmul)]\n",
    "Mul_TestingData = data[data['patientID'].isin(testingmul)]\n",
    "print(\"TrainData shape: \",Mul_TrainData.shape)\n",
    "print(\"ValData shape: \",Mul_ValData.shape)\n",
    "print(\"TestData shape: \",Mul_TestingData.shape)\n",
    "Mul_ValData.reset_index(drop=True,inplace=True)\n",
    "Mul_TrainData.reset_index(drop=True,inplace=True)\n",
    "Mul_TestingData.reset_index(drop=True,inplace=True)\n",
    "Mul_TrainData['ImageName'] = './patch_images/'+Mul_TrainData['ImageName'].astype(str)\n",
    "Mul_ValData['ImageName'] = './patch_images/'+Mul_ValData['ImageName'].astype(str)\n",
    "Mul_TestingData['ImageName'] = './patch_images/'+Mul_TestingData['ImageName'].astype(str)\n",
    "Mul_TrainData['cellType'] = Mul_TrainData['cellType'].astype('str')\n",
    "Mul_ValData['cellType'] = Mul_ValData['cellType'].astype('str')\n",
    "Mul_TestingData['cellType'] = Mul_TestingData['cellType'].astype('str')"
   ]
  },
  {
   "cell_type": "markdown",
   "metadata": {
    "id": "IhM2cIFqrkiK"
   },
   "source": [
    "## Image Generators"
   ]
  },
  {
   "cell_type": "code",
   "execution_count": 113,
   "metadata": {
    "colab": {
     "base_uri": "https://localhost:8080/"
    },
    "id": "cY-10XcIroZK",
    "outputId": "de892283-5ce1-4233-b979-8f713ac31d66"
   },
   "outputs": [
    {
     "name": "stdout",
     "output_type": "stream",
     "text": [
      "Found 6696 validated image filenames belonging to 4 classes.\n",
      "Found 2111 validated image filenames belonging to 4 classes.\n",
      "Found 1089 validated image filenames belonging to 4 classes.\n"
     ]
    }
   ],
   "source": [
    "from tensorflow.keras.preprocessing.image import ImageDataGenerator\n",
    "\n",
    "train_datagen = ImageDataGenerator(rescale=1./255, data_format='channels_last',\n",
    "                                   rotation_range=15, width_shift_range=0.2,\n",
    "                                   height_shift_range=0.2, brightness_range=[0.5,1.5])\n",
    "val_datagen = ImageDataGenerator(rescale=1./255, data_format='channels_last')\n",
    "test_datagen = ImageDataGenerator(rescale=1./255, data_format='channels_last')\n",
    "\n",
    "batch_size = 32\n",
    "\n",
    "train_generator = train_datagen.flow_from_dataframe(\n",
    "        dataframe=Mul_TrainData,\n",
    "        directory='./',\n",
    "        x_col=\"ImageName\",\n",
    "        y_col=\"cellType\",\n",
    "        target_size=(27, 27),\n",
    "        random_state = 99,\n",
    "        batch_size=batch_size,\n",
    "        class_mode='sparse')\n",
    "\n",
    "validation_generator = val_datagen.flow_from_dataframe(\n",
    "        dataframe=Mul_ValData,\n",
    "        directory='./',\n",
    "        x_col=\"ImageName\",\n",
    "        y_col=\"cellType\",\n",
    "        target_size=(27, 27),\n",
    "        random_state = 99,\n",
    "        batch_size=batch_size,\n",
    "        class_mode='sparse')\n",
    "\n",
    "Testing_generator = test_datagen.flow_from_dataframe(\n",
    "        dataframe=Mul_TestingData,\n",
    "        directory='./',\n",
    "        x_col=\"ImageName\",\n",
    "        y_col=\"cellType\",\n",
    "        target_size=(27,27),\n",
    "        random_state = 99,\n",
    "        batch_size=batch_size,\n",
    "        class_mode='sparse')"
   ]
  },
  {
   "cell_type": "code",
   "execution_count": 114,
   "metadata": {
    "id": "RMDPdZ-MrS5z"
   },
   "outputs": [],
   "source": [
    "from keras import backend as K\n",
    "\n",
    "def recall_m(y_true, y_pred):\n",
    "    true_positives = K.sum(K.round(K.clip(y_true * y_pred, 0, 1)))\n",
    "    possible_positives = K.sum(K.round(K.clip(y_true, 0, 1)))\n",
    "    recall = true_positives / (possible_positives + K.epsilon())\n",
    "    return recall\n",
    "\n",
    "def precision_m(y_true, y_pred):\n",
    "    true_positives = K.sum(K.round(K.clip(y_true * y_pred, 0, 1)))\n",
    "    predicted_positives = K.sum(K.round(K.clip(y_pred, 0, 1)))\n",
    "    precision = true_positives / (predicted_positives + K.epsilon())\n",
    "    return precision\n",
    "\n",
    "def f1_m(y_true, y_pred):\n",
    "    precision = precision_m(y_true, y_pred)\n",
    "    recall = recall_m(y_true, y_pred)\n",
    "    return 2*((precision*recall)/(precision+recall+K.epsilon()))"
   ]
  },
  {
   "cell_type": "code",
   "execution_count": 115,
   "metadata": {
    "id": "aim-I285rLQV"
   },
   "outputs": [],
   "source": [
    "import tensorflow_addons as tfa\n",
    "opt = tf.keras.optimizers.Adam(lr=0.0001)\n",
    "model_TL.compile(optimizer=opt,\n",
    "              loss = tf.keras.losses.SparseCategoricalCrossentropy(from_logits=True),\n",
    "              metrics='sparse_categorical_accuracy')"
   ]
  },
  {
   "cell_type": "code",
   "execution_count": 116,
   "metadata": {
    "colab": {
     "base_uri": "https://localhost:8080/"
    },
    "id": "U52YbuKYrW9b",
    "outputId": "3918b8fb-5f51-47c5-9d72-c0578a3131ef"
   },
   "outputs": [
    {
     "name": "stdout",
     "output_type": "stream",
     "text": [
      "Epoch 1/50\n",
      "210/210 [==============================] - 7s 31ms/step - loss: 7.7588 - sparse_categorical_accuracy: 0.4948 - val_loss: 6.3420 - val_sparse_categorical_accuracy: 0.5893\n",
      "Epoch 2/50\n",
      "210/210 [==============================] - 6s 30ms/step - loss: 5.5919 - sparse_categorical_accuracy: 0.6096 - val_loss: 4.8531 - val_sparse_categorical_accuracy: 0.6234\n",
      "Epoch 3/50\n",
      "210/210 [==============================] - 6s 30ms/step - loss: 4.4203 - sparse_categorical_accuracy: 0.6565 - val_loss: 3.9930 - val_sparse_categorical_accuracy: 0.6746\n",
      "Epoch 4/50\n",
      "210/210 [==============================] - 6s 30ms/step - loss: 3.7292 - sparse_categorical_accuracy: 0.6732 - val_loss: 3.5654 - val_sparse_categorical_accuracy: 0.6267\n",
      "Epoch 5/50\n",
      "210/210 [==============================] - 6s 30ms/step - loss: 3.2649 - sparse_categorical_accuracy: 0.6798 - val_loss: 3.0700 - val_sparse_categorical_accuracy: 0.6708\n",
      "Epoch 6/50\n",
      "210/210 [==============================] - 6s 30ms/step - loss: 2.9591 - sparse_categorical_accuracy: 0.6820 - val_loss: 2.8093 - val_sparse_categorical_accuracy: 0.6784\n",
      "Epoch 7/50\n",
      "210/210 [==============================] - 6s 30ms/step - loss: 2.7193 - sparse_categorical_accuracy: 0.6922 - val_loss: 2.6123 - val_sparse_categorical_accuracy: 0.6694\n",
      "Epoch 8/50\n",
      "210/210 [==============================] - 6s 30ms/step - loss: 2.5294 - sparse_categorical_accuracy: 0.6919 - val_loss: 2.4528 - val_sparse_categorical_accuracy: 0.6826\n",
      "Epoch 9/50\n",
      "210/210 [==============================] - 6s 30ms/step - loss: 2.3997 - sparse_categorical_accuracy: 0.6901 - val_loss: 2.3541 - val_sparse_categorical_accuracy: 0.6660\n",
      "Epoch 10/50\n",
      "210/210 [==============================] - 6s 30ms/step - loss: 2.2895 - sparse_categorical_accuracy: 0.7001 - val_loss: 2.2690 - val_sparse_categorical_accuracy: 0.6641\n",
      "Epoch 11/50\n",
      "210/210 [==============================] - 6s 31ms/step - loss: 2.1819 - sparse_categorical_accuracy: 0.6973 - val_loss: 2.1518 - val_sparse_categorical_accuracy: 0.6911\n",
      "Epoch 12/50\n",
      "210/210 [==============================] - 6s 30ms/step - loss: 2.1141 - sparse_categorical_accuracy: 0.7012 - val_loss: 2.0800 - val_sparse_categorical_accuracy: 0.6793\n",
      "Epoch 13/50\n",
      "210/210 [==============================] - 6s 30ms/step - loss: 2.0297 - sparse_categorical_accuracy: 0.7056 - val_loss: 2.0093 - val_sparse_categorical_accuracy: 0.6897\n",
      "Epoch 14/50\n",
      "210/210 [==============================] - 6s 30ms/step - loss: 1.9745 - sparse_categorical_accuracy: 0.7009 - val_loss: 1.9472 - val_sparse_categorical_accuracy: 0.7025\n",
      "Epoch 15/50\n",
      "210/210 [==============================] - 6s 30ms/step - loss: 1.9109 - sparse_categorical_accuracy: 0.7073 - val_loss: 1.8922 - val_sparse_categorical_accuracy: 0.6911\n",
      "Epoch 16/50\n",
      "210/210 [==============================] - 6s 30ms/step - loss: 1.8711 - sparse_categorical_accuracy: 0.7074 - val_loss: 1.8604 - val_sparse_categorical_accuracy: 0.6807\n",
      "Epoch 17/50\n",
      "210/210 [==============================] - 6s 30ms/step - loss: 1.8299 - sparse_categorical_accuracy: 0.7033 - val_loss: 1.8027 - val_sparse_categorical_accuracy: 0.6997\n",
      "Epoch 18/50\n",
      "210/210 [==============================] - 6s 30ms/step - loss: 1.7911 - sparse_categorical_accuracy: 0.7012 - val_loss: 1.8162 - val_sparse_categorical_accuracy: 0.6836\n",
      "Epoch 19/50\n",
      "210/210 [==============================] - 6s 30ms/step - loss: 1.7595 - sparse_categorical_accuracy: 0.7052 - val_loss: 1.7710 - val_sparse_categorical_accuracy: 0.6727\n",
      "Epoch 20/50\n",
      "210/210 [==============================] - 6s 30ms/step - loss: 1.7216 - sparse_categorical_accuracy: 0.7091 - val_loss: 1.7140 - val_sparse_categorical_accuracy: 0.6982\n",
      "Epoch 21/50\n",
      "210/210 [==============================] - 6s 30ms/step - loss: 1.6963 - sparse_categorical_accuracy: 0.7098 - val_loss: 1.7159 - val_sparse_categorical_accuracy: 0.6784\n",
      "Epoch 22/50\n",
      "210/210 [==============================] - 6s 30ms/step - loss: 1.6614 - sparse_categorical_accuracy: 0.7103 - val_loss: 1.6611 - val_sparse_categorical_accuracy: 0.6959\n",
      "Epoch 23/50\n",
      "210/210 [==============================] - 6s 30ms/step - loss: 1.6438 - sparse_categorical_accuracy: 0.7053 - val_loss: 1.6194 - val_sparse_categorical_accuracy: 0.7058\n",
      "Epoch 24/50\n",
      "210/210 [==============================] - 6s 30ms/step - loss: 1.6090 - sparse_categorical_accuracy: 0.7164 - val_loss: 1.6464 - val_sparse_categorical_accuracy: 0.6755\n",
      "Epoch 25/50\n",
      "210/210 [==============================] - 6s 31ms/step - loss: 1.5779 - sparse_categorical_accuracy: 0.7185 - val_loss: 1.6031 - val_sparse_categorical_accuracy: 0.7035\n",
      "Epoch 26/50\n",
      "210/210 [==============================] - 6s 30ms/step - loss: 1.5621 - sparse_categorical_accuracy: 0.7164 - val_loss: 1.5581 - val_sparse_categorical_accuracy: 0.7025\n",
      "Epoch 27/50\n",
      "210/210 [==============================] - 6s 30ms/step - loss: 1.5402 - sparse_categorical_accuracy: 0.7110 - val_loss: 1.5467 - val_sparse_categorical_accuracy: 0.6964\n",
      "Epoch 28/50\n",
      "210/210 [==============================] - 6s 30ms/step - loss: 1.5201 - sparse_categorical_accuracy: 0.7174 - val_loss: 1.5353 - val_sparse_categorical_accuracy: 0.7087\n",
      "Epoch 29/50\n",
      "210/210 [==============================] - 6s 31ms/step - loss: 1.4922 - sparse_categorical_accuracy: 0.7215 - val_loss: 1.5106 - val_sparse_categorical_accuracy: 0.6973\n",
      "Epoch 30/50\n",
      "210/210 [==============================] - 6s 30ms/step - loss: 1.4879 - sparse_categorical_accuracy: 0.7118 - val_loss: 1.4953 - val_sparse_categorical_accuracy: 0.7129\n",
      "Epoch 31/50\n",
      "210/210 [==============================] - 6s 30ms/step - loss: 1.4664 - sparse_categorical_accuracy: 0.7176 - val_loss: 1.4765 - val_sparse_categorical_accuracy: 0.7139\n",
      "Epoch 32/50\n",
      "210/210 [==============================] - 6s 30ms/step - loss: 1.4622 - sparse_categorical_accuracy: 0.7142 - val_loss: 1.4543 - val_sparse_categorical_accuracy: 0.7139\n",
      "Epoch 33/50\n",
      "210/210 [==============================] - 6s 30ms/step - loss: 1.4394 - sparse_categorical_accuracy: 0.7231 - val_loss: 1.4611 - val_sparse_categorical_accuracy: 0.6926\n",
      "Epoch 34/50\n",
      "210/210 [==============================] - 6s 30ms/step - loss: 1.4209 - sparse_categorical_accuracy: 0.7176 - val_loss: 1.4264 - val_sparse_categorical_accuracy: 0.7058\n",
      "Epoch 35/50\n",
      "210/210 [==============================] - 6s 30ms/step - loss: 1.4093 - sparse_categorical_accuracy: 0.7158 - val_loss: 1.4105 - val_sparse_categorical_accuracy: 0.7125\n",
      "Epoch 36/50\n",
      "210/210 [==============================] - 6s 30ms/step - loss: 1.3925 - sparse_categorical_accuracy: 0.7207 - val_loss: 1.3938 - val_sparse_categorical_accuracy: 0.7153\n",
      "Epoch 37/50\n",
      "210/210 [==============================] - 6s 30ms/step - loss: 1.3681 - sparse_categorical_accuracy: 0.7252 - val_loss: 1.3842 - val_sparse_categorical_accuracy: 0.7196\n",
      "Epoch 38/50\n",
      "210/210 [==============================] - 6s 30ms/step - loss: 1.3754 - sparse_categorical_accuracy: 0.7170 - val_loss: 1.4396 - val_sparse_categorical_accuracy: 0.6850\n",
      "Epoch 39/50\n",
      "210/210 [==============================] - 6s 30ms/step - loss: 1.3602 - sparse_categorical_accuracy: 0.7219 - val_loss: 1.3570 - val_sparse_categorical_accuracy: 0.7172\n",
      "Epoch 40/50\n",
      "210/210 [==============================] - 6s 30ms/step - loss: 1.3481 - sparse_categorical_accuracy: 0.7225 - val_loss: 1.3674 - val_sparse_categorical_accuracy: 0.6987\n",
      "Epoch 41/50\n",
      "210/210 [==============================] - 6s 31ms/step - loss: 1.3391 - sparse_categorical_accuracy: 0.7206 - val_loss: 1.3568 - val_sparse_categorical_accuracy: 0.7101\n",
      "Epoch 42/50\n",
      "210/210 [==============================] - 6s 30ms/step - loss: 1.3340 - sparse_categorical_accuracy: 0.7182 - val_loss: 1.3277 - val_sparse_categorical_accuracy: 0.7205\n",
      "Epoch 43/50\n",
      "210/210 [==============================] - 6s 30ms/step - loss: 1.3157 - sparse_categorical_accuracy: 0.7233 - val_loss: 1.3282 - val_sparse_categorical_accuracy: 0.7196\n",
      "Epoch 44/50\n",
      "210/210 [==============================] - 6s 30ms/step - loss: 1.3117 - sparse_categorical_accuracy: 0.7212 - val_loss: 1.3114 - val_sparse_categorical_accuracy: 0.7139\n",
      "Epoch 45/50\n",
      "210/210 [==============================] - 6s 31ms/step - loss: 1.2975 - sparse_categorical_accuracy: 0.7183 - val_loss: 1.3013 - val_sparse_categorical_accuracy: 0.7139\n",
      "Epoch 46/50\n",
      "210/210 [==============================] - 6s 31ms/step - loss: 1.3013 - sparse_categorical_accuracy: 0.7183 - val_loss: 1.3080 - val_sparse_categorical_accuracy: 0.7125\n",
      "Epoch 47/50\n",
      "210/210 [==============================] - 6s 30ms/step - loss: 1.2829 - sparse_categorical_accuracy: 0.7219 - val_loss: 1.2955 - val_sparse_categorical_accuracy: 0.7129\n",
      "Epoch 48/50\n",
      "210/210 [==============================] - 6s 30ms/step - loss: 1.2682 - sparse_categorical_accuracy: 0.7237 - val_loss: 1.2929 - val_sparse_categorical_accuracy: 0.7186\n",
      "Epoch 49/50\n",
      "210/210 [==============================] - 6s 30ms/step - loss: 1.2556 - sparse_categorical_accuracy: 0.7295 - val_loss: 1.2853 - val_sparse_categorical_accuracy: 0.7120\n",
      "Epoch 50/50\n",
      "210/210 [==============================] - 6s 30ms/step - loss: 1.2556 - sparse_categorical_accuracy: 0.7243 - val_loss: 1.2916 - val_sparse_categorical_accuracy: 0.7016\n"
     ]
    }
   ],
   "source": [
    "history_TL = model_TL.fit_generator(train_generator, validation_data = validation_generator, epochs=50, verbose=1)"
   ]
  },
  {
   "cell_type": "code",
   "execution_count": 117,
   "metadata": {
    "colab": {
     "base_uri": "https://localhost:8080/",
     "height": 338
    },
    "id": "n8IQhbY4uF4u",
    "outputId": "5003e41e-93b5-4a91-bd93-1d2683c70c80"
   },
   "outputs": [
    {
     "data": {
      "image/png": "[encoded data removed]",
      "text/plain": [
       "<Figure size 720x360 with 2 Axes>"
      ]
     },
     "metadata": {
      "needs_background": "light",
      "tags": []
     },
     "output_type": "display_data"
    }
   ],
   "source": [
    "plot_learning_curve(history_TL.history['loss'], history_TL.history['val_loss'], \n",
    "                    history_TL.history['sparse_categorical_accuracy'], history_TL.history['val_sparse_categorical_accuracy'], \n",
    "                    metric_name='sparse_categorical')"
   ]
  },
  {
   "cell_type": "markdown",
   "metadata": {
    "id": "jRa7v0eDuIB8"
   },
   "source": [
    "## Prediction on Unseen data"
   ]
  },
  {
   "cell_type": "code",
   "execution_count": 118,
   "metadata": {
    "id": "0SxlxpWSxclA"
   },
   "outputs": [],
   "source": [
    "y_hat_all = list()\n",
    "y_all = list()\n",
    "filenames = Testing_generator.filenames\n",
    "N_images = len(filenames)\n",
    "batches = 0"
   ]
  },
  {
   "cell_type": "code",
   "execution_count": 120,
   "metadata": {
    "id": "HdpXdP9cxgpt"
   },
   "outputs": [],
   "source": [
    "# iterate through the data generator and predict for each batch\n",
    "# hold the predictions and labels\n",
    "for x,y in Testing_generator:\n",
    "        y_hat = model_TL.predict(x, verbose=0)\n",
    "        y_hat = np.argmax(y_hat, axis = 1)\n",
    "        y_hat_all = y_hat_all + y_hat.tolist()\n",
    "        y_all = y_all + y.tolist()\n",
    "\n",
    "        batches += 1\n",
    "        if batches >= N_images / batch_size:\n",
    "            # we need to break the loop by hand because\n",
    "            # the generator loops indefinitely\n",
    "            break"
   ]
  },
  {
   "cell_type": "code",
   "execution_count": 121,
   "metadata": {
    "colab": {
     "base_uri": "https://localhost:8080/"
    },
    "id": "BN8UEAdFxow_",
    "outputId": "7af58bd8-f987-43ee-f787-69e6fa029273"
   },
   "outputs": [
    {
     "data": {
      "text/plain": [
       "0.667416246151066"
      ]
     },
     "execution_count": 121,
     "metadata": {
      "tags": []
     },
     "output_type": "execute_result"
    }
   ],
   "source": [
    "from sklearn.metrics import classification_report\n",
    "from sklearn.metrics import confusion_matrix, accuracy_score, f1_score\n",
    "f1_score(y_all, y_hat_all, average='macro')"
   ]
  },
  {
   "cell_type": "code",
   "execution_count": 122,
   "metadata": {
    "colab": {
     "base_uri": "https://localhost:8080/"
    },
    "id": "-grYhY_WDY7T",
    "outputId": "37837017-771d-4549-f3b7-4727fee86e00"
   },
   "outputs": [
    {
     "name": "stdout",
     "output_type": "stream",
     "text": [
      "              precision    recall  f1-score   support\n",
      "\n",
      "           0       0.69      0.79      0.73       188\n",
      "           1       0.83      0.93      0.88       470\n",
      "           2       0.92      0.81      0.86       351\n",
      "           3       0.34      0.14      0.20        80\n",
      "\n",
      "    accuracy                           0.81      1089\n",
      "   macro avg       0.69      0.67      0.67      1089\n",
      "weighted avg       0.80      0.81      0.80      1089\n",
      "\n"
     ]
    }
   ],
   "source": [
    "target = ['0','1','2','3']\n",
    "print(classification_report(y_all,y_hat_all,target_names=target))"
   ]
  },
  {
   "cell_type": "markdown",
   "metadata": {},
   "source": [
    "**Based on the above outputs of the transfer learning model following observations can be made**\n",
    "- It can be observed that the weights are learn't weights are transfered from the `isCancerous` model to the multiclass model. \n",
    "- Since the model has learn't all its parameters, it perfoms better on the less data. \n",
    "- This technique can be used to improve the performances of the models where there is very less data that can be used to train the model. \n",
    "- Less data may create oscillations and unstability of the model, we can observe that the transfer learning model is stable and less oscillating. Hence the performances are better. \n",
    "- Transfer learning is a huge advantage at the data corpus on which the model has been already trained might contain instances that are not inclusive of the existing information. Hence this can be a better performing model. \n",
    "- The final scores can we get after the Transfer learning is around 67% F1score"
   ]
  },
  {
   "cell_type": "markdown",
   "metadata": {
    "id": "Ub8pCumi7Yyy"
   },
   "source": [
    "# **Summary and Conclusion** <a class=\"anchor\" id=\"10\"></a>"
   ]
  },
  {
   "cell_type": "markdown",
   "metadata": {
    "id": "MdkJEROIuKep"
   },
   "source": [
    "In this project we have used supervised learning algorithms to classify the `isCancerous` and `cellType` classification models. The metrics used for predictions are F1 scores and sparseCategoricalAccuracy is used as the loss function. \n",
    "- It can be seen that the model with total 98 patients performs the best with highest score. However, when data decreases and the classification classes increases, the performance of the model goes down. \n",
    "- The transfer learning model is the best one with minimum oscillations and maximum stability. "
   ]
  }
 ],
 "metadata": {
  "accelerator": "GPU",
  "colab": {
   "collapsed_sections": [],
   "machine_shape": "hm",
   "name": "Final_draft1 (1).ipynb",
   "provenance": []
  },
  "kernelspec": {
   "display_name": "Python 3",
   "language": "python",
   "name": "python3"
  },
  "language_info": {
   "codemirror_mode": {
    "name": "ipython",
    "version": 3
   },
   "file_extension": ".py",
   "mimetype": "text/x-python",
   "name": "python",
   "nbconvert_exporter": "python",
   "pygments_lexer": "ipython3",
   "version": "3.7.6"
  }
 },
 "nbformat": 4,
 "nbformat_minor": 1
}
